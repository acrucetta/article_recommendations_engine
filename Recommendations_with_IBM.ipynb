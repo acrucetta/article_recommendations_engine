{
  "nbformat": 4,
  "nbformat_minor": 0,
  "metadata": {
    "kernelspec": {
      "display_name": "Python 3",
      "language": "python",
      "name": "python3"
    },
    "language_info": {
      "codemirror_mode": {
        "name": "ipython",
        "version": 3
      },
      "file_extension": ".py",
      "mimetype": "text/x-python",
      "name": "python",
      "nbconvert_exporter": "python",
      "pygments_lexer": "ipython3",
      "version": "3.6.3"
    },
    "colab": {
      "name": "Recommendations_with_IBM.ipynb",
      "provenance": [],
      "collapsed_sections": [],
      "toc_visible": true,
      "include_colab_link": true
    }
  },
  "cells": [
    {
      "cell_type": "markdown",
      "metadata": {
        "id": "view-in-github",
        "colab_type": "text"
      },
      "source": [
        "<a href=\"https://colab.research.google.com/github/acrucetta/article_recommendations_engine/blob/master/Recommendations_with_IBM.ipynb\" target=\"_parent\"><img src=\"https://colab.research.google.com/assets/colab-badge.svg\" alt=\"Open In Colab\"/></a>"
      ]
    },
    {
      "cell_type": "markdown",
      "metadata": {
        "id": "Rbpuvv6ieUHX",
        "colab_type": "text"
      },
      "source": [
        "# Recommendations with IBM\n",
        "\n",
        "In this notebook, you will be putting your recommendation skills to use on real data from the IBM Watson Studio platform. \n",
        "\n",
        "\n",
        "You may either submit your notebook through the workspace here, or you may work from your local machine and submit through the next page.  Either way assure that your code passes the project [RUBRIC](https://review.udacity.com/#!/rubrics/2322/view).  **Please save regularly.**\n",
        "\n",
        "By following the table of contents, you will build out a number of different methods for making recommendations that can be used for different situations. \n",
        "\n",
        "\n",
        "## Table of Contents\n",
        "\n",
        "I. [Exploratory Data Analysis](#Exploratory-Data-Analysis)<br>\n",
        "II. [Rank Based Recommendations](#Rank)<br>\n",
        "III. [User-User Based Collaborative Filtering](#User-User)<br>\n",
        "IV. [Content Based Recommendations (EXTRA - NOT REQUIRED)](#Content-Recs)<br>\n",
        "V. [Matrix Factorization](#Matrix-Fact)<br>\n",
        "VI. [Extras & Concluding](#conclusions)\n",
        "\n",
        "At the end of the notebook, you will find directions for how to submit your work.  Let's get started by importing the necessary libraries and reading in the data."
      ]
    },
    {
      "cell_type": "code",
      "metadata": {
        "id": "CWcBDeN4fGF8",
        "colab_type": "code",
        "colab": {
          "base_uri": "https://localhost:8080/",
          "height": 124
        },
        "outputId": "3ff4b04b-db4b-442e-90ad-072210c9b2fb"
      },
      "source": [
        "from google.colab import drive\n",
        "drive.mount('/content/drive')"
      ],
      "execution_count": 1,
      "outputs": [
        {
          "output_type": "stream",
          "text": [
            "Go to this URL in a browser: https://accounts.google.com/o/oauth2/auth?client_id=947318989803-6bn6qk8qdgf4n4g3pfee6491hc0brc4i.apps.googleusercontent.com&redirect_uri=urn%3aietf%3awg%3aoauth%3a2.0%3aoob&response_type=code&scope=email%20https%3a%2f%2fwww.googleapis.com%2fauth%2fdocs.test%20https%3a%2f%2fwww.googleapis.com%2fauth%2fdrive%20https%3a%2f%2fwww.googleapis.com%2fauth%2fdrive.photos.readonly%20https%3a%2f%2fwww.googleapis.com%2fauth%2fpeopleapi.readonly\n",
            "\n",
            "Enter your authorization code:\n",
            "··········\n",
            "Mounted at /content/drive\n"
          ],
          "name": "stdout"
        }
      ]
    },
    {
      "cell_type": "code",
      "metadata": {
        "id": "UIaSq56Gfz-R",
        "colab_type": "code",
        "colab": {}
      },
      "source": [
        "!cp \"/content/drive/My Drive/GitHub/recommendation_engine/project_tests.py\" .\n",
        "!cp \"/content/drive/My Drive/GitHub/recommendation_engine/data/user-item-interactions.csv\" .\n",
        "!cp \"/content/drive/My Drive/GitHub/recommendation_engine/data/articles_community.csv\" .\n",
        "!cp \"/content/drive/My Drive/GitHub/recommendation_engine/user_item_matrix.p\" .\n",
        "!cp \"/content/drive/My Drive/GitHub/recommendation_engine/top_5.p\" .\n",
        "!cp \"/content/drive/My Drive/GitHub/recommendation_engine/top_10.p\" .\n",
        "!cp \"/content/drive/My Drive/GitHub/recommendation_engine/top_20.p\" ."
      ],
      "execution_count": 2,
      "outputs": []
    },
    {
      "cell_type": "code",
      "metadata": {
        "id": "2Iq3qCPSeUHY",
        "colab_type": "code",
        "colab": {
          "base_uri": "https://localhost:8080/",
          "height": 257
        },
        "outputId": "e8512870-0d6c-4012-8442-3fdc55e8d6c2"
      },
      "source": [
        "import pandas as pd\n",
        "import numpy as np\n",
        "import matplotlib.pyplot as plt\n",
        "import project_tests as t\n",
        "import seaborn as sns\n",
        "import pickle\n",
        "\n",
        "%matplotlib inline\n",
        "\n",
        "df = pd.read_csv('/content/drive/My Drive/GitHub/recommendation_engine/data/user-item-interactions.csv')\n",
        "df_content = pd.read_csv('/content/drive/My Drive/GitHub/recommendation_engine/data/articles_community.csv')\n",
        "del df['Unnamed: 0']\n",
        "del df_content['Unnamed: 0']\n",
        "\n",
        "# Show df to get an idea of the data\n",
        "df.head()"
      ],
      "execution_count": 3,
      "outputs": [
        {
          "output_type": "stream",
          "text": [
            "/usr/local/lib/python3.6/dist-packages/statsmodels/tools/_testing.py:19: FutureWarning: pandas.util.testing is deprecated. Use the functions in the public API at pandas.testing instead.\n",
            "  import pandas.util.testing as tm\n"
          ],
          "name": "stderr"
        },
        {
          "output_type": "execute_result",
          "data": {
            "text/html": [
              "<div>\n",
              "<style scoped>\n",
              "    .dataframe tbody tr th:only-of-type {\n",
              "        vertical-align: middle;\n",
              "    }\n",
              "\n",
              "    .dataframe tbody tr th {\n",
              "        vertical-align: top;\n",
              "    }\n",
              "\n",
              "    .dataframe thead th {\n",
              "        text-align: right;\n",
              "    }\n",
              "</style>\n",
              "<table border=\"1\" class=\"dataframe\">\n",
              "  <thead>\n",
              "    <tr style=\"text-align: right;\">\n",
              "      <th></th>\n",
              "      <th>article_id</th>\n",
              "      <th>title</th>\n",
              "      <th>email</th>\n",
              "    </tr>\n",
              "  </thead>\n",
              "  <tbody>\n",
              "    <tr>\n",
              "      <th>0</th>\n",
              "      <td>1430.0</td>\n",
              "      <td>using pixiedust for fast, flexible, and easier...</td>\n",
              "      <td>ef5f11f77ba020cd36e1105a00ab868bbdbf7fe7</td>\n",
              "    </tr>\n",
              "    <tr>\n",
              "      <th>1</th>\n",
              "      <td>1314.0</td>\n",
              "      <td>healthcare python streaming application demo</td>\n",
              "      <td>083cbdfa93c8444beaa4c5f5e0f5f9198e4f9e0b</td>\n",
              "    </tr>\n",
              "    <tr>\n",
              "      <th>2</th>\n",
              "      <td>1429.0</td>\n",
              "      <td>use deep learning for image classification</td>\n",
              "      <td>b96a4f2e92d8572034b1e9b28f9ac673765cd074</td>\n",
              "    </tr>\n",
              "    <tr>\n",
              "      <th>3</th>\n",
              "      <td>1338.0</td>\n",
              "      <td>ml optimization using cognitive assistant</td>\n",
              "      <td>06485706b34a5c9bf2a0ecdac41daf7e7654ceb7</td>\n",
              "    </tr>\n",
              "    <tr>\n",
              "      <th>4</th>\n",
              "      <td>1276.0</td>\n",
              "      <td>deploy your python model as a restful api</td>\n",
              "      <td>f01220c46fc92c6e6b161b1849de11faacd7ccb2</td>\n",
              "    </tr>\n",
              "  </tbody>\n",
              "</table>\n",
              "</div>"
            ],
            "text/plain": [
              "   article_id  ...                                     email\n",
              "0      1430.0  ...  ef5f11f77ba020cd36e1105a00ab868bbdbf7fe7\n",
              "1      1314.0  ...  083cbdfa93c8444beaa4c5f5e0f5f9198e4f9e0b\n",
              "2      1429.0  ...  b96a4f2e92d8572034b1e9b28f9ac673765cd074\n",
              "3      1338.0  ...  06485706b34a5c9bf2a0ecdac41daf7e7654ceb7\n",
              "4      1276.0  ...  f01220c46fc92c6e6b161b1849de11faacd7ccb2\n",
              "\n",
              "[5 rows x 3 columns]"
            ]
          },
          "metadata": {
            "tags": []
          },
          "execution_count": 3
        }
      ]
    },
    {
      "cell_type": "code",
      "metadata": {
        "id": "CcXIDLeqeUHc",
        "colab_type": "code",
        "colab": {
          "base_uri": "https://localhost:8080/",
          "height": 202
        },
        "outputId": "1ab3bf94-f428-4988-8443-007a1b198429"
      },
      "source": [
        "# Show df_content to get an idea of the data\n",
        "df_content.head()"
      ],
      "execution_count": 4,
      "outputs": [
        {
          "output_type": "execute_result",
          "data": {
            "text/html": [
              "<div>\n",
              "<style scoped>\n",
              "    .dataframe tbody tr th:only-of-type {\n",
              "        vertical-align: middle;\n",
              "    }\n",
              "\n",
              "    .dataframe tbody tr th {\n",
              "        vertical-align: top;\n",
              "    }\n",
              "\n",
              "    .dataframe thead th {\n",
              "        text-align: right;\n",
              "    }\n",
              "</style>\n",
              "<table border=\"1\" class=\"dataframe\">\n",
              "  <thead>\n",
              "    <tr style=\"text-align: right;\">\n",
              "      <th></th>\n",
              "      <th>doc_body</th>\n",
              "      <th>doc_description</th>\n",
              "      <th>doc_full_name</th>\n",
              "      <th>doc_status</th>\n",
              "      <th>article_id</th>\n",
              "    </tr>\n",
              "  </thead>\n",
              "  <tbody>\n",
              "    <tr>\n",
              "      <th>0</th>\n",
              "      <td>Skip navigation Sign in SearchLoading...\\r\\n\\r...</td>\n",
              "      <td>Detect bad readings in real time using Python ...</td>\n",
              "      <td>Detect Malfunctioning IoT Sensors with Streami...</td>\n",
              "      <td>Live</td>\n",
              "      <td>0</td>\n",
              "    </tr>\n",
              "    <tr>\n",
              "      <th>1</th>\n",
              "      <td>No Free Hunch Navigation * kaggle.com\\r\\n\\r\\n ...</td>\n",
              "      <td>See the forest, see the trees. Here lies the c...</td>\n",
              "      <td>Communicating data science: A guide to present...</td>\n",
              "      <td>Live</td>\n",
              "      <td>1</td>\n",
              "    </tr>\n",
              "    <tr>\n",
              "      <th>2</th>\n",
              "      <td>☰ * Login\\r\\n * Sign Up\\r\\n\\r\\n * Learning Pat...</td>\n",
              "      <td>Here’s this week’s news in Data Science and Bi...</td>\n",
              "      <td>This Week in Data Science (April 18, 2017)</td>\n",
              "      <td>Live</td>\n",
              "      <td>2</td>\n",
              "    </tr>\n",
              "    <tr>\n",
              "      <th>3</th>\n",
              "      <td>DATALAYER: HIGH THROUGHPUT, LOW LATENCY AT SCA...</td>\n",
              "      <td>Learn how distributed DBs solve the problem of...</td>\n",
              "      <td>DataLayer Conference: Boost the performance of...</td>\n",
              "      <td>Live</td>\n",
              "      <td>3</td>\n",
              "    </tr>\n",
              "    <tr>\n",
              "      <th>4</th>\n",
              "      <td>Skip navigation Sign in SearchLoading...\\r\\n\\r...</td>\n",
              "      <td>This video demonstrates the power of IBM DataS...</td>\n",
              "      <td>Analyze NY Restaurant data using Spark in DSX</td>\n",
              "      <td>Live</td>\n",
              "      <td>4</td>\n",
              "    </tr>\n",
              "  </tbody>\n",
              "</table>\n",
              "</div>"
            ],
            "text/plain": [
              "                                            doc_body  ... article_id\n",
              "0  Skip navigation Sign in SearchLoading...\\r\\n\\r...  ...          0\n",
              "1  No Free Hunch Navigation * kaggle.com\\r\\n\\r\\n ...  ...          1\n",
              "2  ☰ * Login\\r\\n * Sign Up\\r\\n\\r\\n * Learning Pat...  ...          2\n",
              "3  DATALAYER: HIGH THROUGHPUT, LOW LATENCY AT SCA...  ...          3\n",
              "4  Skip navigation Sign in SearchLoading...\\r\\n\\r...  ...          4\n",
              "\n",
              "[5 rows x 5 columns]"
            ]
          },
          "metadata": {
            "tags": []
          },
          "execution_count": 4
        }
      ]
    },
    {
      "cell_type": "markdown",
      "metadata": {
        "id": "Gh46T8uHeUHm",
        "colab_type": "text"
      },
      "source": [
        "### <a class=\"anchor\" id=\"Exploratory-Data-Analysis\">Part I : Exploratory Data Analysis</a>\n",
        "\n",
        "Use the dictionary and cells below to provide some insight into the descriptive statistics of the data.\n",
        "\n",
        "`1.` What is the distribution of how many articles a user interacts with in the dataset?  Provide a visual and descriptive statistics to assist with giving a look at the number of times each user interacts with an article.  "
      ]
    },
    {
      "cell_type": "code",
      "metadata": {
        "id": "V1-AGX_CeUHn",
        "colab_type": "code",
        "colab": {}
      },
      "source": [
        "new_df = df.groupby(by = ['email']).article_id.count()"
      ],
      "execution_count": 5,
      "outputs": []
    },
    {
      "cell_type": "code",
      "metadata": {
        "id": "OrIgamrhkJ32",
        "colab_type": "code",
        "colab": {
          "base_uri": "https://localhost:8080/",
          "height": 242
        },
        "outputId": "f981b34e-792f-4c79-d906-10cd9950aeb5"
      },
      "source": [
        "new_df.sort_values(ascending = False)"
      ],
      "execution_count": 6,
      "outputs": [
        {
          "output_type": "execute_result",
          "data": {
            "text/plain": [
              "email\n",
              "2b6c0f514c2f2b04ad3c4583407dccd0810469ee    364\n",
              "77959baaa9895a7e2bdc9297f8b27c1b6f2cb52a    363\n",
              "2f5c7feae533ce046f2cb16fb3a29fe00528ed66    170\n",
              "a37adec71b667b297ed2440a9ff7dad427c7ac85    169\n",
              "8510a5010a5d4c89f5b07baac6de80cd12cfaf93    160\n",
              "                                           ... \n",
              "efdb4c363358224cd99d45053e2dbddf659e25ce      1\n",
              "3fac88958dc7903b380743597f44a79cf76ea128      1\n",
              "9c4b5dda1282c94128a7dc778951a313cce8055b      1\n",
              "3fbe4978a20ee5ddc07648f2762b808ea18cedd1      1\n",
              "6755c5d49a97e785583f65a92f72bc09459905a9      1\n",
              "Name: article_id, Length: 5148, dtype: int64"
            ]
          },
          "metadata": {
            "tags": []
          },
          "execution_count": 6
        }
      ]
    },
    {
      "cell_type": "code",
      "metadata": {
        "id": "SyCURFpsjkYc",
        "colab_type": "code",
        "colab": {
          "base_uri": "https://localhost:8080/",
          "height": 297
        },
        "outputId": "8a8f3e96-18e0-4775-fbb4-4cbdfa27a335"
      },
      "source": [
        "sns.distplot(new_df[:], kde=True,color=\"b\")"
      ],
      "execution_count": 7,
      "outputs": [
        {
          "output_type": "execute_result",
          "data": {
            "text/plain": [
              "<matplotlib.axes._subplots.AxesSubplot at 0x7f1ea86deac8>"
            ]
          },
          "metadata": {
            "tags": []
          },
          "execution_count": 7
        },
        {
          "output_type": "display_data",
          "data": {
            "image/png": "[encoded data removed]",
            "text/plain": [
              "<Figure size 432x288 with 1 Axes>"
            ]
          },
          "metadata": {
            "tags": [],
            "needs_background": "light"
          }
        }
      ]
    },
    {
      "cell_type": "code",
      "metadata": {
        "id": "9uYep6IVkUvi",
        "colab_type": "code",
        "colab": {
          "base_uri": "https://localhost:8080/",
          "height": 52
        },
        "outputId": "dbd47ae6-e09f-4016-b852-7bf8626d105f"
      },
      "source": [
        "print(\"Max:\", max(new_df[:]))\n",
        "print(\"Median:\",new_df[:].median())"
      ],
      "execution_count": 8,
      "outputs": [
        {
          "output_type": "stream",
          "text": [
            "Max: 364\n",
            "Median: 3.0\n"
          ],
          "name": "stdout"
        }
      ]
    },
    {
      "cell_type": "code",
      "metadata": {
        "id": "S9iV07iIeUHz",
        "colab_type": "code",
        "colab": {}
      },
      "source": [
        "5# Fill in the median and maximum number of user_article interactios below\n",
        "\n",
        "median_val = 3 # 50% of individuals interact with 3 number of articles or fewer.\n",
        "max_views_by_user = 364 # The maximum number of user-article interactions by any 1 user is 364."
      ],
      "execution_count": 9,
      "outputs": []
    },
    {
      "cell_type": "markdown",
      "metadata": {
        "id": "kcDIz4d7eUH7",
        "colab_type": "text"
      },
      "source": [
        "`2.` Explore and remove duplicate articles from the **df_content** dataframe.  "
      ]
    },
    {
      "cell_type": "code",
      "metadata": {
        "id": "7rdekwBPeUH7",
        "colab_type": "code",
        "colab": {
          "base_uri": "https://localhost:8080/",
          "height": 225
        },
        "outputId": "91ecbfe1-6eb1-4983-d346-28f4478facdd"
      },
      "source": [
        "# Find and explore duplicate articles\n",
        "df_content.info()"
      ],
      "execution_count": 10,
      "outputs": [
        {
          "output_type": "stream",
          "text": [
            "<class 'pandas.core.frame.DataFrame'>\n",
            "RangeIndex: 1056 entries, 0 to 1055\n",
            "Data columns (total 5 columns):\n",
            " #   Column           Non-Null Count  Dtype \n",
            "---  ------           --------------  ----- \n",
            " 0   doc_body         1042 non-null   object\n",
            " 1   doc_description  1053 non-null   object\n",
            " 2   doc_full_name    1056 non-null   object\n",
            " 3   doc_status       1056 non-null   object\n",
            " 4   article_id       1056 non-null   int64 \n",
            "dtypes: int64(1), object(4)\n",
            "memory usage: 41.4+ KB\n"
          ],
          "name": "stdout"
        }
      ]
    },
    {
      "cell_type": "code",
      "metadata": {
        "id": "gW4YNHsghQR_",
        "colab_type": "code",
        "colab": {
          "base_uri": "https://localhost:8080/",
          "height": 356
        },
        "outputId": "938b2216-55b7-4f52-8a95-9009e1d0cc7f"
      },
      "source": [
        "df_content_duplicates = df_content.article_id.value_counts()\n",
        "duplicate_ids = df_content_duplicates[df_content_duplicates[:] == 2].index\n",
        "\n",
        "df_content[df_content.article_id.isin(duplicate_ids)]"
      ],
      "execution_count": 11,
      "outputs": [
        {
          "output_type": "execute_result",
          "data": {
            "text/html": [
              "<div>\n",
              "<style scoped>\n",
              "    .dataframe tbody tr th:only-of-type {\n",
              "        vertical-align: middle;\n",
              "    }\n",
              "\n",
              "    .dataframe tbody tr th {\n",
              "        vertical-align: top;\n",
              "    }\n",
              "\n",
              "    .dataframe thead th {\n",
              "        text-align: right;\n",
              "    }\n",
              "</style>\n",
              "<table border=\"1\" class=\"dataframe\">\n",
              "  <thead>\n",
              "    <tr style=\"text-align: right;\">\n",
              "      <th></th>\n",
              "      <th>doc_body</th>\n",
              "      <th>doc_description</th>\n",
              "      <th>doc_full_name</th>\n",
              "      <th>doc_status</th>\n",
              "      <th>article_id</th>\n",
              "    </tr>\n",
              "  </thead>\n",
              "  <tbody>\n",
              "    <tr>\n",
              "      <th>50</th>\n",
              "      <td>Follow Sign in / Sign up Home About Insight Da...</td>\n",
              "      <td>Community Detection at Scale</td>\n",
              "      <td>Graph-based machine learning</td>\n",
              "      <td>Live</td>\n",
              "      <td>50</td>\n",
              "    </tr>\n",
              "    <tr>\n",
              "      <th>221</th>\n",
              "      <td>* United States\\r\\n\\r\\nIBM® * Site map\\r\\n\\r\\n...</td>\n",
              "      <td>When used to make sense of huge amounts of con...</td>\n",
              "      <td>How smart catalogs can turn the big data flood...</td>\n",
              "      <td>Live</td>\n",
              "      <td>221</td>\n",
              "    </tr>\n",
              "    <tr>\n",
              "      <th>232</th>\n",
              "      <td>Homepage Follow Sign in Get started Homepage *...</td>\n",
              "      <td>If you are like most data scientists, you are ...</td>\n",
              "      <td>Self-service data preparation with IBM Data Re...</td>\n",
              "      <td>Live</td>\n",
              "      <td>232</td>\n",
              "    </tr>\n",
              "    <tr>\n",
              "      <th>365</th>\n",
              "      <td>Follow Sign in / Sign up Home About Insight Da...</td>\n",
              "      <td>During the seven-week Insight Data Engineering...</td>\n",
              "      <td>Graph-based machine learning</td>\n",
              "      <td>Live</td>\n",
              "      <td>50</td>\n",
              "    </tr>\n",
              "    <tr>\n",
              "      <th>399</th>\n",
              "      <td>Homepage Follow Sign in Get started * Home\\r\\n...</td>\n",
              "      <td>Today’s world of data science leverages data f...</td>\n",
              "      <td>Using Apache Spark as a parallel processing fr...</td>\n",
              "      <td>Live</td>\n",
              "      <td>398</td>\n",
              "    </tr>\n",
              "    <tr>\n",
              "      <th>578</th>\n",
              "      <td>This video shows you how to construct queries ...</td>\n",
              "      <td>This video shows you how to construct queries ...</td>\n",
              "      <td>Use the Primary Index</td>\n",
              "      <td>Live</td>\n",
              "      <td>577</td>\n",
              "    </tr>\n",
              "    <tr>\n",
              "      <th>692</th>\n",
              "      <td>Homepage Follow Sign in / Sign up Homepage * H...</td>\n",
              "      <td>One of the earliest documented catalogs was co...</td>\n",
              "      <td>How smart catalogs can turn the big data flood...</td>\n",
              "      <td>Live</td>\n",
              "      <td>221</td>\n",
              "    </tr>\n",
              "    <tr>\n",
              "      <th>761</th>\n",
              "      <td>Homepage Follow Sign in Get started Homepage *...</td>\n",
              "      <td>Today’s world of data science leverages data f...</td>\n",
              "      <td>Using Apache Spark as a parallel processing fr...</td>\n",
              "      <td>Live</td>\n",
              "      <td>398</td>\n",
              "    </tr>\n",
              "    <tr>\n",
              "      <th>970</th>\n",
              "      <td>This video shows you how to construct queries ...</td>\n",
              "      <td>This video shows you how to construct queries ...</td>\n",
              "      <td>Use the Primary Index</td>\n",
              "      <td>Live</td>\n",
              "      <td>577</td>\n",
              "    </tr>\n",
              "    <tr>\n",
              "      <th>971</th>\n",
              "      <td>Homepage Follow Sign in Get started * Home\\r\\n...</td>\n",
              "      <td>If you are like most data scientists, you are ...</td>\n",
              "      <td>Self-service data preparation with IBM Data Re...</td>\n",
              "      <td>Live</td>\n",
              "      <td>232</td>\n",
              "    </tr>\n",
              "  </tbody>\n",
              "</table>\n",
              "</div>"
            ],
            "text/plain": [
              "                                              doc_body  ... article_id\n",
              "50   Follow Sign in / Sign up Home About Insight Da...  ...         50\n",
              "221  * United States\\r\\n\\r\\nIBM® * Site map\\r\\n\\r\\n...  ...        221\n",
              "232  Homepage Follow Sign in Get started Homepage *...  ...        232\n",
              "365  Follow Sign in / Sign up Home About Insight Da...  ...         50\n",
              "399  Homepage Follow Sign in Get started * Home\\r\\n...  ...        398\n",
              "578  This video shows you how to construct queries ...  ...        577\n",
              "692  Homepage Follow Sign in / Sign up Homepage * H...  ...        221\n",
              "761  Homepage Follow Sign in Get started Homepage *...  ...        398\n",
              "970  This video shows you how to construct queries ...  ...        577\n",
              "971  Homepage Follow Sign in Get started * Home\\r\\n...  ...        232\n",
              "\n",
              "[10 rows x 5 columns]"
            ]
          },
          "metadata": {
            "tags": []
          },
          "execution_count": 11
        }
      ]
    },
    {
      "cell_type": "code",
      "metadata": {
        "id": "DM4IV7CTeUID",
        "colab_type": "code",
        "colab": {
          "base_uri": "https://localhost:8080/",
          "height": 416
        },
        "outputId": "84836150-598a-431b-f99a-3c3f543901cb"
      },
      "source": [
        "# Remove any rows that have the same article_id - only keep the first\n",
        "df_content = df_content.drop_duplicates(subset=\"article_id\", keep = \"first\")\n",
        "df_content"
      ],
      "execution_count": 12,
      "outputs": [
        {
          "output_type": "execute_result",
          "data": {
            "text/html": [
              "<div>\n",
              "<style scoped>\n",
              "    .dataframe tbody tr th:only-of-type {\n",
              "        vertical-align: middle;\n",
              "    }\n",
              "\n",
              "    .dataframe tbody tr th {\n",
              "        vertical-align: top;\n",
              "    }\n",
              "\n",
              "    .dataframe thead th {\n",
              "        text-align: right;\n",
              "    }\n",
              "</style>\n",
              "<table border=\"1\" class=\"dataframe\">\n",
              "  <thead>\n",
              "    <tr style=\"text-align: right;\">\n",
              "      <th></th>\n",
              "      <th>doc_body</th>\n",
              "      <th>doc_description</th>\n",
              "      <th>doc_full_name</th>\n",
              "      <th>doc_status</th>\n",
              "      <th>article_id</th>\n",
              "    </tr>\n",
              "  </thead>\n",
              "  <tbody>\n",
              "    <tr>\n",
              "      <th>0</th>\n",
              "      <td>Skip navigation Sign in SearchLoading...\\r\\n\\r...</td>\n",
              "      <td>Detect bad readings in real time using Python ...</td>\n",
              "      <td>Detect Malfunctioning IoT Sensors with Streami...</td>\n",
              "      <td>Live</td>\n",
              "      <td>0</td>\n",
              "    </tr>\n",
              "    <tr>\n",
              "      <th>1</th>\n",
              "      <td>No Free Hunch Navigation * kaggle.com\\r\\n\\r\\n ...</td>\n",
              "      <td>See the forest, see the trees. Here lies the c...</td>\n",
              "      <td>Communicating data science: A guide to present...</td>\n",
              "      <td>Live</td>\n",
              "      <td>1</td>\n",
              "    </tr>\n",
              "    <tr>\n",
              "      <th>2</th>\n",
              "      <td>☰ * Login\\r\\n * Sign Up\\r\\n\\r\\n * Learning Pat...</td>\n",
              "      <td>Here’s this week’s news in Data Science and Bi...</td>\n",
              "      <td>This Week in Data Science (April 18, 2017)</td>\n",
              "      <td>Live</td>\n",
              "      <td>2</td>\n",
              "    </tr>\n",
              "    <tr>\n",
              "      <th>3</th>\n",
              "      <td>DATALAYER: HIGH THROUGHPUT, LOW LATENCY AT SCA...</td>\n",
              "      <td>Learn how distributed DBs solve the problem of...</td>\n",
              "      <td>DataLayer Conference: Boost the performance of...</td>\n",
              "      <td>Live</td>\n",
              "      <td>3</td>\n",
              "    </tr>\n",
              "    <tr>\n",
              "      <th>4</th>\n",
              "      <td>Skip navigation Sign in SearchLoading...\\r\\n\\r...</td>\n",
              "      <td>This video demonstrates the power of IBM DataS...</td>\n",
              "      <td>Analyze NY Restaurant data using Spark in DSX</td>\n",
              "      <td>Live</td>\n",
              "      <td>4</td>\n",
              "    </tr>\n",
              "    <tr>\n",
              "      <th>...</th>\n",
              "      <td>...</td>\n",
              "      <td>...</td>\n",
              "      <td>...</td>\n",
              "      <td>...</td>\n",
              "      <td>...</td>\n",
              "    </tr>\n",
              "    <tr>\n",
              "      <th>1051</th>\n",
              "      <td>PouchDB-find is a new API and syntax that allo...</td>\n",
              "      <td>PouchDB uses MapReduce as its default search m...</td>\n",
              "      <td>A look under the covers of PouchDB-find</td>\n",
              "      <td>Live</td>\n",
              "      <td>1046</td>\n",
              "    </tr>\n",
              "    <tr>\n",
              "      <th>1052</th>\n",
              "      <td>We compare discriminative and generative learn...</td>\n",
              "      <td>We compare discriminative and generative learn...</td>\n",
              "      <td>A comparison of logistic regression and naive ...</td>\n",
              "      <td>Live</td>\n",
              "      <td>1047</td>\n",
              "    </tr>\n",
              "    <tr>\n",
              "      <th>1053</th>\n",
              "      <td>Essays about data, building products and boots...</td>\n",
              "      <td>In order to demystify some of the magic behind...</td>\n",
              "      <td>What I Learned Implementing a Classifier from ...</td>\n",
              "      <td>Live</td>\n",
              "      <td>1048</td>\n",
              "    </tr>\n",
              "    <tr>\n",
              "      <th>1054</th>\n",
              "      <td>NaN</td>\n",
              "      <td>Learn how to use IBM dashDB as data store for ...</td>\n",
              "      <td>Use dashDB with Spark</td>\n",
              "      <td>Live</td>\n",
              "      <td>1049</td>\n",
              "    </tr>\n",
              "    <tr>\n",
              "      <th>1055</th>\n",
              "      <td>Homepage Follow Sign in / Sign up Homepage * H...</td>\n",
              "      <td>Once you get used to developing in a Notebook ...</td>\n",
              "      <td>Jupyter Notebooks with Scala, Python, or R Ker...</td>\n",
              "      <td>Live</td>\n",
              "      <td>1050</td>\n",
              "    </tr>\n",
              "  </tbody>\n",
              "</table>\n",
              "<p>1051 rows × 5 columns</p>\n",
              "</div>"
            ],
            "text/plain": [
              "                                               doc_body  ... article_id\n",
              "0     Skip navigation Sign in SearchLoading...\\r\\n\\r...  ...          0\n",
              "1     No Free Hunch Navigation * kaggle.com\\r\\n\\r\\n ...  ...          1\n",
              "2     ☰ * Login\\r\\n * Sign Up\\r\\n\\r\\n * Learning Pat...  ...          2\n",
              "3     DATALAYER: HIGH THROUGHPUT, LOW LATENCY AT SCA...  ...          3\n",
              "4     Skip navigation Sign in SearchLoading...\\r\\n\\r...  ...          4\n",
              "...                                                 ...  ...        ...\n",
              "1051  PouchDB-find is a new API and syntax that allo...  ...       1046\n",
              "1052  We compare discriminative and generative learn...  ...       1047\n",
              "1053  Essays about data, building products and boots...  ...       1048\n",
              "1054                                                NaN  ...       1049\n",
              "1055  Homepage Follow Sign in / Sign up Homepage * H...  ...       1050\n",
              "\n",
              "[1051 rows x 5 columns]"
            ]
          },
          "metadata": {
            "tags": []
          },
          "execution_count": 12
        }
      ]
    },
    {
      "cell_type": "markdown",
      "metadata": {
        "id": "xhFa_VNTeUIJ",
        "colab_type": "text"
      },
      "source": [
        "`3.` Use the cells below to find:\n",
        "\n",
        "**a.** The number of unique articles that have an interaction with a user.  \n",
        "**b.** The number of unique articles in the dataset (whether they have any interactions or not).<br>\n",
        "**c.** The number of unique users in the dataset. (excluding null values) <br>\n",
        "**d.** The number of user-article interactions in the dataset."
      ]
    },
    {
      "cell_type": "code",
      "metadata": {
        "id": "PXMBQhyXeUIK",
        "colab_type": "code",
        "colab": {
          "base_uri": "https://localhost:8080/",
          "height": 86
        },
        "outputId": "39c545b1-b266-442a-c3b0-30fcc18418b9"
      },
      "source": [
        "print(\"Unique articles with user interaction:\", len(df.article_id.unique()))\n",
        "\n",
        "print(\"Total unique articles:\", len(df_content.article_id.unique()))\n",
        "\n",
        "print(\"Unique users in the dataset:\", len(df.email.unique()))\n",
        "\n",
        "print(\"User-article interactions in the dataset:\", len(df.article_id))"
      ],
      "execution_count": 13,
      "outputs": [
        {
          "output_type": "stream",
          "text": [
            "Unique articles with user interaction: 714\n",
            "Total unique articles: 1051\n",
            "Unique users in the dataset: 5149\n",
            "User-article interactions in the dataset: 45993\n"
          ],
          "name": "stdout"
        }
      ]
    },
    {
      "cell_type": "code",
      "metadata": {
        "id": "57s8QgNVeUIO",
        "colab_type": "code",
        "colab": {}
      },
      "source": [
        "unique_articles = len(df.article_id.unique()) # The number of unique articles that have at least one interaction\n",
        "total_articles = len(df_content.article_id.unique()) # The number of unique articles on the IBM platform\n",
        "unique_users = 5148 # The number of unique users\n",
        "user_article_interactions = len(df.article_id) # The number of user-article interactions"
      ],
      "execution_count": 40,
      "outputs": []
    },
    {
      "cell_type": "code",
      "metadata": {
        "id": "_YMl88FjQ-vO",
        "colab_type": "code",
        "colab": {
          "base_uri": "https://localhost:8080/",
          "height": 34
        },
        "outputId": "159b0f07-035a-40de-8225-7bb7cfef4b05"
      },
      "source": [
        "len(df.user_id.unique())"
      ],
      "execution_count": 41,
      "outputs": [
        {
          "output_type": "execute_result",
          "data": {
            "text/plain": [
              "5149"
            ]
          },
          "metadata": {
            "tags": []
          },
          "execution_count": 41
        }
      ]
    },
    {
      "cell_type": "markdown",
      "metadata": {
        "id": "QCqQ3JpOeUIS",
        "colab_type": "text"
      },
      "source": [
        "`4.` Use the cells below to find the most viewed **article_id**, as well as how often it was viewed.  After talking to the company leaders, the `email_mapper` function was deemed a reasonable way to map users to ids.  There were a small number of null values, and it was found that all of these null values likely belonged to a single user (which is how they are stored using the function below)."
      ]
    },
    {
      "cell_type": "code",
      "metadata": {
        "id": "6zVB9QOyeUIS",
        "colab_type": "code",
        "colab": {
          "base_uri": "https://localhost:8080/",
          "height": 225
        },
        "outputId": "15c075ad-63e2-4822-9d56-9d43f2f84e84"
      },
      "source": [
        "df.article_id.value_counts()"
      ],
      "execution_count": 42,
      "outputs": [
        {
          "output_type": "execute_result",
          "data": {
            "text/plain": [
              "1429.0    937\n",
              "1330.0    927\n",
              "1431.0    671\n",
              "1427.0    643\n",
              "1364.0    627\n",
              "         ... \n",
              "974.0       1\n",
              "417.0       1\n",
              "1113.0      1\n",
              "984.0       1\n",
              "1072.0      1\n",
              "Name: article_id, Length: 714, dtype: int64"
            ]
          },
          "metadata": {
            "tags": []
          },
          "execution_count": 42
        }
      ]
    },
    {
      "cell_type": "code",
      "metadata": {
        "id": "jjV9YPDmeUIW",
        "colab_type": "code",
        "colab": {}
      },
      "source": [
        "most_viewed_article_id = \"1429.0\" # The most viewed article in the dataset as a string with one value following the decimal \n",
        "max_views = 937 # The most viewed article in the dataset was viewed how many times?"
      ],
      "execution_count": 43,
      "outputs": []
    },
    {
      "cell_type": "code",
      "metadata": {
        "id": "FkAL-VuDeUIa",
        "colab_type": "code",
        "colab": {
          "base_uri": "https://localhost:8080/",
          "height": 712
        },
        "outputId": "62d53558-0d56-4236-8f24-4b9ba5d0f525"
      },
      "source": [
        "## No need to change the code here - this will be helpful for later parts of the notebook\n",
        "# Run this cell to map the user email to a user_id column and remove the email column\n",
        "\n",
        "def email_mapper():\n",
        "    coded_dict = dict()\n",
        "    cter = 1\n",
        "    email_encoded = []\n",
        "    \n",
        "    for val in df['email']:\n",
        "        if val not in coded_dict:\n",
        "            coded_dict[val] = cter\n",
        "            cter+=1\n",
        "        \n",
        "        email_encoded.append(coded_dict[val])\n",
        "    return email_encoded\n",
        "\n",
        "email_encoded = email_mapper()\n",
        "del df['email']\n",
        "df['user_id'] = email_encoded\n",
        "\n",
        "# show header\n",
        "df.head()"
      ],
      "execution_count": 44,
      "outputs": [
        {
          "output_type": "error",
          "ename": "KeyError",
          "evalue": "ignored",
          "traceback": [
            "\u001b[0;31m---------------------------------------------------------------------------\u001b[0m",
            "\u001b[0;31mKeyError\u001b[0m                                  Traceback (most recent call last)",
            "\u001b[0;32m/usr/local/lib/python3.6/dist-packages/pandas/core/indexes/base.py\u001b[0m in \u001b[0;36mget_loc\u001b[0;34m(self, key, method, tolerance)\u001b[0m\n\u001b[1;32m   2645\u001b[0m             \u001b[0;32mtry\u001b[0m\u001b[0;34m:\u001b[0m\u001b[0;34m\u001b[0m\u001b[0;34m\u001b[0m\u001b[0m\n\u001b[0;32m-> 2646\u001b[0;31m                 \u001b[0;32mreturn\u001b[0m \u001b[0mself\u001b[0m\u001b[0;34m.\u001b[0m\u001b[0m_engine\u001b[0m\u001b[0;34m.\u001b[0m\u001b[0mget_loc\u001b[0m\u001b[0;34m(\u001b[0m\u001b[0mkey\u001b[0m\u001b[0;34m)\u001b[0m\u001b[0;34m\u001b[0m\u001b[0;34m\u001b[0m\u001b[0m\n\u001b[0m\u001b[1;32m   2647\u001b[0m             \u001b[0;32mexcept\u001b[0m \u001b[0mKeyError\u001b[0m\u001b[0;34m:\u001b[0m\u001b[0;34m\u001b[0m\u001b[0;34m\u001b[0m\u001b[0m\n",
            "\u001b[0;32mpandas/_libs/index.pyx\u001b[0m in \u001b[0;36mpandas._libs.index.IndexEngine.get_loc\u001b[0;34m()\u001b[0m\n",
            "\u001b[0;32mpandas/_libs/index.pyx\u001b[0m in \u001b[0;36mpandas._libs.index.IndexEngine.get_loc\u001b[0;34m()\u001b[0m\n",
            "\u001b[0;32mpandas/_libs/hashtable_class_helper.pxi\u001b[0m in \u001b[0;36mpandas._libs.hashtable.PyObjectHashTable.get_item\u001b[0;34m()\u001b[0m\n",
            "\u001b[0;32mpandas/_libs/hashtable_class_helper.pxi\u001b[0m in \u001b[0;36mpandas._libs.hashtable.PyObjectHashTable.get_item\u001b[0;34m()\u001b[0m\n",
            "\u001b[0;31mKeyError\u001b[0m: 'email'",
            "\nDuring handling of the above exception, another exception occurred:\n",
            "\u001b[0;31mKeyError\u001b[0m                                  Traceback (most recent call last)",
            "\u001b[0;32m<ipython-input-44-f4d33415c29c>\u001b[0m in \u001b[0;36m<module>\u001b[0;34m()\u001b[0m\n\u001b[1;32m     15\u001b[0m     \u001b[0;32mreturn\u001b[0m \u001b[0memail_encoded\u001b[0m\u001b[0;34m\u001b[0m\u001b[0;34m\u001b[0m\u001b[0m\n\u001b[1;32m     16\u001b[0m \u001b[0;34m\u001b[0m\u001b[0m\n\u001b[0;32m---> 17\u001b[0;31m \u001b[0memail_encoded\u001b[0m \u001b[0;34m=\u001b[0m \u001b[0memail_mapper\u001b[0m\u001b[0;34m(\u001b[0m\u001b[0;34m)\u001b[0m\u001b[0;34m\u001b[0m\u001b[0;34m\u001b[0m\u001b[0m\n\u001b[0m\u001b[1;32m     18\u001b[0m \u001b[0;32mdel\u001b[0m \u001b[0mdf\u001b[0m\u001b[0;34m[\u001b[0m\u001b[0;34m'email'\u001b[0m\u001b[0;34m]\u001b[0m\u001b[0;34m\u001b[0m\u001b[0;34m\u001b[0m\u001b[0m\n\u001b[1;32m     19\u001b[0m \u001b[0mdf\u001b[0m\u001b[0;34m[\u001b[0m\u001b[0;34m'user_id'\u001b[0m\u001b[0;34m]\u001b[0m \u001b[0;34m=\u001b[0m \u001b[0memail_encoded\u001b[0m\u001b[0;34m\u001b[0m\u001b[0;34m\u001b[0m\u001b[0m\n",
            "\u001b[0;32m<ipython-input-44-f4d33415c29c>\u001b[0m in \u001b[0;36memail_mapper\u001b[0;34m()\u001b[0m\n\u001b[1;32m      7\u001b[0m     \u001b[0memail_encoded\u001b[0m \u001b[0;34m=\u001b[0m \u001b[0;34m[\u001b[0m\u001b[0;34m]\u001b[0m\u001b[0;34m\u001b[0m\u001b[0;34m\u001b[0m\u001b[0m\n\u001b[1;32m      8\u001b[0m \u001b[0;34m\u001b[0m\u001b[0m\n\u001b[0;32m----> 9\u001b[0;31m     \u001b[0;32mfor\u001b[0m \u001b[0mval\u001b[0m \u001b[0;32min\u001b[0m \u001b[0mdf\u001b[0m\u001b[0;34m[\u001b[0m\u001b[0;34m'email'\u001b[0m\u001b[0;34m]\u001b[0m\u001b[0;34m:\u001b[0m\u001b[0;34m\u001b[0m\u001b[0;34m\u001b[0m\u001b[0m\n\u001b[0m\u001b[1;32m     10\u001b[0m         \u001b[0;32mif\u001b[0m \u001b[0mval\u001b[0m \u001b[0;32mnot\u001b[0m \u001b[0;32min\u001b[0m \u001b[0mcoded_dict\u001b[0m\u001b[0;34m:\u001b[0m\u001b[0;34m\u001b[0m\u001b[0;34m\u001b[0m\u001b[0m\n\u001b[1;32m     11\u001b[0m             \u001b[0mcoded_dict\u001b[0m\u001b[0;34m[\u001b[0m\u001b[0mval\u001b[0m\u001b[0;34m]\u001b[0m \u001b[0;34m=\u001b[0m \u001b[0mcter\u001b[0m\u001b[0;34m\u001b[0m\u001b[0;34m\u001b[0m\u001b[0m\n",
            "\u001b[0;32m/usr/local/lib/python3.6/dist-packages/pandas/core/frame.py\u001b[0m in \u001b[0;36m__getitem__\u001b[0;34m(self, key)\u001b[0m\n\u001b[1;32m   2798\u001b[0m             \u001b[0;32mif\u001b[0m \u001b[0mself\u001b[0m\u001b[0;34m.\u001b[0m\u001b[0mcolumns\u001b[0m\u001b[0;34m.\u001b[0m\u001b[0mnlevels\u001b[0m \u001b[0;34m>\u001b[0m \u001b[0;36m1\u001b[0m\u001b[0;34m:\u001b[0m\u001b[0;34m\u001b[0m\u001b[0;34m\u001b[0m\u001b[0m\n\u001b[1;32m   2799\u001b[0m                 \u001b[0;32mreturn\u001b[0m \u001b[0mself\u001b[0m\u001b[0;34m.\u001b[0m\u001b[0m_getitem_multilevel\u001b[0m\u001b[0;34m(\u001b[0m\u001b[0mkey\u001b[0m\u001b[0;34m)\u001b[0m\u001b[0;34m\u001b[0m\u001b[0;34m\u001b[0m\u001b[0m\n\u001b[0;32m-> 2800\u001b[0;31m             \u001b[0mindexer\u001b[0m \u001b[0;34m=\u001b[0m \u001b[0mself\u001b[0m\u001b[0;34m.\u001b[0m\u001b[0mcolumns\u001b[0m\u001b[0;34m.\u001b[0m\u001b[0mget_loc\u001b[0m\u001b[0;34m(\u001b[0m\u001b[0mkey\u001b[0m\u001b[0;34m)\u001b[0m\u001b[0;34m\u001b[0m\u001b[0;34m\u001b[0m\u001b[0m\n\u001b[0m\u001b[1;32m   2801\u001b[0m             \u001b[0;32mif\u001b[0m \u001b[0mis_integer\u001b[0m\u001b[0;34m(\u001b[0m\u001b[0mindexer\u001b[0m\u001b[0;34m)\u001b[0m\u001b[0;34m:\u001b[0m\u001b[0;34m\u001b[0m\u001b[0;34m\u001b[0m\u001b[0m\n\u001b[1;32m   2802\u001b[0m                 \u001b[0mindexer\u001b[0m \u001b[0;34m=\u001b[0m \u001b[0;34m[\u001b[0m\u001b[0mindexer\u001b[0m\u001b[0;34m]\u001b[0m\u001b[0;34m\u001b[0m\u001b[0;34m\u001b[0m\u001b[0m\n",
            "\u001b[0;32m/usr/local/lib/python3.6/dist-packages/pandas/core/indexes/base.py\u001b[0m in \u001b[0;36mget_loc\u001b[0;34m(self, key, method, tolerance)\u001b[0m\n\u001b[1;32m   2646\u001b[0m                 \u001b[0;32mreturn\u001b[0m \u001b[0mself\u001b[0m\u001b[0;34m.\u001b[0m\u001b[0m_engine\u001b[0m\u001b[0;34m.\u001b[0m\u001b[0mget_loc\u001b[0m\u001b[0;34m(\u001b[0m\u001b[0mkey\u001b[0m\u001b[0;34m)\u001b[0m\u001b[0;34m\u001b[0m\u001b[0;34m\u001b[0m\u001b[0m\n\u001b[1;32m   2647\u001b[0m             \u001b[0;32mexcept\u001b[0m \u001b[0mKeyError\u001b[0m\u001b[0;34m:\u001b[0m\u001b[0;34m\u001b[0m\u001b[0;34m\u001b[0m\u001b[0m\n\u001b[0;32m-> 2648\u001b[0;31m                 \u001b[0;32mreturn\u001b[0m \u001b[0mself\u001b[0m\u001b[0;34m.\u001b[0m\u001b[0m_engine\u001b[0m\u001b[0;34m.\u001b[0m\u001b[0mget_loc\u001b[0m\u001b[0;34m(\u001b[0m\u001b[0mself\u001b[0m\u001b[0;34m.\u001b[0m\u001b[0m_maybe_cast_indexer\u001b[0m\u001b[0;34m(\u001b[0m\u001b[0mkey\u001b[0m\u001b[0;34m)\u001b[0m\u001b[0;34m)\u001b[0m\u001b[0;34m\u001b[0m\u001b[0;34m\u001b[0m\u001b[0m\n\u001b[0m\u001b[1;32m   2649\u001b[0m         \u001b[0mindexer\u001b[0m \u001b[0;34m=\u001b[0m \u001b[0mself\u001b[0m\u001b[0;34m.\u001b[0m\u001b[0mget_indexer\u001b[0m\u001b[0;34m(\u001b[0m\u001b[0;34m[\u001b[0m\u001b[0mkey\u001b[0m\u001b[0;34m]\u001b[0m\u001b[0;34m,\u001b[0m \u001b[0mmethod\u001b[0m\u001b[0;34m=\u001b[0m\u001b[0mmethod\u001b[0m\u001b[0;34m,\u001b[0m \u001b[0mtolerance\u001b[0m\u001b[0;34m=\u001b[0m\u001b[0mtolerance\u001b[0m\u001b[0;34m)\u001b[0m\u001b[0;34m\u001b[0m\u001b[0;34m\u001b[0m\u001b[0m\n\u001b[1;32m   2650\u001b[0m         \u001b[0;32mif\u001b[0m \u001b[0mindexer\u001b[0m\u001b[0;34m.\u001b[0m\u001b[0mndim\u001b[0m \u001b[0;34m>\u001b[0m \u001b[0;36m1\u001b[0m \u001b[0;32mor\u001b[0m \u001b[0mindexer\u001b[0m\u001b[0;34m.\u001b[0m\u001b[0msize\u001b[0m \u001b[0;34m>\u001b[0m \u001b[0;36m1\u001b[0m\u001b[0;34m:\u001b[0m\u001b[0;34m\u001b[0m\u001b[0;34m\u001b[0m\u001b[0m\n",
            "\u001b[0;32mpandas/_libs/index.pyx\u001b[0m in \u001b[0;36mpandas._libs.index.IndexEngine.get_loc\u001b[0;34m()\u001b[0m\n",
            "\u001b[0;32mpandas/_libs/index.pyx\u001b[0m in \u001b[0;36mpandas._libs.index.IndexEngine.get_loc\u001b[0;34m()\u001b[0m\n",
            "\u001b[0;32mpandas/_libs/hashtable_class_helper.pxi\u001b[0m in \u001b[0;36mpandas._libs.hashtable.PyObjectHashTable.get_item\u001b[0;34m()\u001b[0m\n",
            "\u001b[0;32mpandas/_libs/hashtable_class_helper.pxi\u001b[0m in \u001b[0;36mpandas._libs.hashtable.PyObjectHashTable.get_item\u001b[0;34m()\u001b[0m\n",
            "\u001b[0;31mKeyError\u001b[0m: 'email'"
          ]
        }
      ]
    },
    {
      "cell_type": "code",
      "metadata": {
        "id": "uFqj-rMtmzSB",
        "colab_type": "code",
        "colab": {
          "base_uri": "https://localhost:8080/",
          "height": 34
        },
        "outputId": "7353100a-c042-446b-bc50-60daa50fad1e"
      },
      "source": [
        "len(df.user_id.unique())"
      ],
      "execution_count": 45,
      "outputs": [
        {
          "output_type": "execute_result",
          "data": {
            "text/plain": [
              "5149"
            ]
          },
          "metadata": {
            "tags": []
          },
          "execution_count": 45
        }
      ]
    },
    {
      "cell_type": "code",
      "metadata": {
        "id": "kVgI7CuqeUId",
        "colab_type": "code",
        "colab": {
          "base_uri": "https://localhost:8080/",
          "height": 34
        },
        "outputId": "2d02f74f-1c97-4c1c-9b42-606929c8a8d3"
      },
      "source": [
        "## If you stored all your results in the variable names above, \n",
        "## you shouldn't need to change anything in this cell\n",
        "\n",
        "sol_1_dict = {\n",
        "    '`50% of individuals have _____ or fewer interactions.`': median_val,\n",
        "    '`The total number of user-article interactions in the dataset is ______.`': user_article_interactions,\n",
        "    '`The maximum number of user-article interactions by any 1 user is ______.`': max_views_by_user,\n",
        "    '`The most viewed article in the dataset was viewed _____ times.`': max_views,\n",
        "    '`The article_id of the most viewed article is ______.`': most_viewed_article_id,\n",
        "    '`The number of unique articles that have at least 1 rating ______.`': unique_articles,\n",
        "    '`The number of unique users in the dataset is ______`': unique_users,\n",
        "    '`The number of unique articles on the IBM platform`': total_articles\n",
        "}\n",
        "\n",
        "# Test your dictionary against the solution\n",
        "t.sol_1_test(sol_1_dict)"
      ],
      "execution_count": 46,
      "outputs": [
        {
          "output_type": "stream",
          "text": [
            "It looks like you have everything right here! Nice job!\n"
          ],
          "name": "stdout"
        }
      ]
    },
    {
      "cell_type": "markdown",
      "metadata": {
        "id": "vwJwtan4eUIi",
        "colab_type": "text"
      },
      "source": [
        "### <a class=\"anchor\" id=\"Rank\">Part II: Rank-Based Recommendations</a>\n",
        "\n",
        "Unlike in the earlier lessons, we don't actually have ratings for whether a user liked an article or not.  We only know that a user has interacted with an article.  In these cases, the popularity of an article can really only be based on how often an article was interacted with.\n",
        "\n",
        "`1.` Fill in the function below to return the **n** top articles ordered with most interactions as the top. Test your function using the tests below."
      ]
    },
    {
      "cell_type": "code",
      "metadata": {
        "id": "HGGd7u8U0sQ5",
        "colab_type": "code",
        "colab": {
          "base_uri": "https://localhost:8080/",
          "height": 416
        },
        "outputId": "3a3a841a-2f6b-4133-fbb0-1f4180682697"
      },
      "source": [
        "df"
      ],
      "execution_count": 20,
      "outputs": [
        {
          "output_type": "execute_result",
          "data": {
            "text/html": [
              "<div>\n",
              "<style scoped>\n",
              "    .dataframe tbody tr th:only-of-type {\n",
              "        vertical-align: middle;\n",
              "    }\n",
              "\n",
              "    .dataframe tbody tr th {\n",
              "        vertical-align: top;\n",
              "    }\n",
              "\n",
              "    .dataframe thead th {\n",
              "        text-align: right;\n",
              "    }\n",
              "</style>\n",
              "<table border=\"1\" class=\"dataframe\">\n",
              "  <thead>\n",
              "    <tr style=\"text-align: right;\">\n",
              "      <th></th>\n",
              "      <th>article_id</th>\n",
              "      <th>title</th>\n",
              "      <th>user_id</th>\n",
              "    </tr>\n",
              "  </thead>\n",
              "  <tbody>\n",
              "    <tr>\n",
              "      <th>0</th>\n",
              "      <td>1430.0</td>\n",
              "      <td>using pixiedust for fast, flexible, and easier...</td>\n",
              "      <td>1</td>\n",
              "    </tr>\n",
              "    <tr>\n",
              "      <th>1</th>\n",
              "      <td>1314.0</td>\n",
              "      <td>healthcare python streaming application demo</td>\n",
              "      <td>2</td>\n",
              "    </tr>\n",
              "    <tr>\n",
              "      <th>2</th>\n",
              "      <td>1429.0</td>\n",
              "      <td>use deep learning for image classification</td>\n",
              "      <td>3</td>\n",
              "    </tr>\n",
              "    <tr>\n",
              "      <th>3</th>\n",
              "      <td>1338.0</td>\n",
              "      <td>ml optimization using cognitive assistant</td>\n",
              "      <td>4</td>\n",
              "    </tr>\n",
              "    <tr>\n",
              "      <th>4</th>\n",
              "      <td>1276.0</td>\n",
              "      <td>deploy your python model as a restful api</td>\n",
              "      <td>5</td>\n",
              "    </tr>\n",
              "    <tr>\n",
              "      <th>...</th>\n",
              "      <td>...</td>\n",
              "      <td>...</td>\n",
              "      <td>...</td>\n",
              "    </tr>\n",
              "    <tr>\n",
              "      <th>45988</th>\n",
              "      <td>1324.0</td>\n",
              "      <td>ibm watson facebook posts for 2015</td>\n",
              "      <td>5146</td>\n",
              "    </tr>\n",
              "    <tr>\n",
              "      <th>45989</th>\n",
              "      <td>142.0</td>\n",
              "      <td>neural networks for beginners: popular types a...</td>\n",
              "      <td>5146</td>\n",
              "    </tr>\n",
              "    <tr>\n",
              "      <th>45990</th>\n",
              "      <td>233.0</td>\n",
              "      <td>bayesian nonparametric models – stats and bots</td>\n",
              "      <td>5147</td>\n",
              "    </tr>\n",
              "    <tr>\n",
              "      <th>45991</th>\n",
              "      <td>1160.0</td>\n",
              "      <td>analyze accident reports on amazon emr spark</td>\n",
              "      <td>5148</td>\n",
              "    </tr>\n",
              "    <tr>\n",
              "      <th>45992</th>\n",
              "      <td>16.0</td>\n",
              "      <td>higher-order logistic regression for large dat...</td>\n",
              "      <td>5149</td>\n",
              "    </tr>\n",
              "  </tbody>\n",
              "</table>\n",
              "<p>45993 rows × 3 columns</p>\n",
              "</div>"
            ],
            "text/plain": [
              "       article_id                                              title  user_id\n",
              "0          1430.0  using pixiedust for fast, flexible, and easier...        1\n",
              "1          1314.0       healthcare python streaming application demo        2\n",
              "2          1429.0         use deep learning for image classification        3\n",
              "3          1338.0          ml optimization using cognitive assistant        4\n",
              "4          1276.0          deploy your python model as a restful api        5\n",
              "...           ...                                                ...      ...\n",
              "45988      1324.0                 ibm watson facebook posts for 2015     5146\n",
              "45989       142.0  neural networks for beginners: popular types a...     5146\n",
              "45990       233.0     bayesian nonparametric models – stats and bots     5147\n",
              "45991      1160.0       analyze accident reports on amazon emr spark     5148\n",
              "45992        16.0  higher-order logistic regression for large dat...     5149\n",
              "\n",
              "[45993 rows x 3 columns]"
            ]
          },
          "metadata": {
            "tags": []
          },
          "execution_count": 20
        }
      ]
    },
    {
      "cell_type": "code",
      "metadata": {
        "id": "bEYQKZKd0eZO",
        "colab_type": "code",
        "colab": {
          "base_uri": "https://localhost:8080/",
          "height": 190
        },
        "outputId": "887f3913-2760-449a-8294-709e5d87cffb"
      },
      "source": [
        "ranked_df = df.groupby(by = ['article_id']).user_id.count().sort_values(ascending = False)\n",
        "ranked_articles = ranked_df.nlargest(10).index.tolist()\n",
        "top_articles = df[df.article_id.isin(ranked_articles)].title.unique().tolist()\n",
        "top_articles"
      ],
      "execution_count": 21,
      "outputs": [
        {
          "output_type": "execute_result",
          "data": {
            "text/plain": [
              "['healthcare python streaming application demo',\n",
              " 'use deep learning for image classification',\n",
              " 'apache spark lab, part 1: basic concepts',\n",
              " 'predicting churn with the spss random tree algorithm',\n",
              " 'analyze energy consumption in buildings',\n",
              " 'visualize car data with brunel',\n",
              " 'use xgboost, scikit-learn & ibm watson machine learning apis',\n",
              " 'gosales transactions for logistic regression model',\n",
              " 'insights from new york car accident reports',\n",
              " 'finding optimal locations of new store using decision optimization']"
            ]
          },
          "metadata": {
            "tags": []
          },
          "execution_count": 21
        }
      ]
    },
    {
      "cell_type": "code",
      "metadata": {
        "id": "gIjrR63zeUIj",
        "colab_type": "code",
        "colab": {}
      },
      "source": [
        "def get_top_articles(n, df=df):\n",
        "    '''\n",
        "    INPUT:\n",
        "    n - (int) the number of top articles to return\n",
        "    df - (pandas dataframe) df as defined at the top of the notebook \n",
        "    \n",
        "    OUTPUT:\n",
        "    top_articles - (list) A list of the top 'n' article titles \n",
        "    \n",
        "    '''\n",
        "    ranked_df = df.groupby(by = ['article_id']).user_id.count().sort_values(ascending = False)\n",
        "    ranked_articles = ranked_df.nlargest(n).index.tolist()\n",
        "    top_articles = df[df.article_id.isin(ranked_articles)].title.unique().tolist()\n",
        "    \n",
        "    return top_articles # Return the top article titles from df (not df_content)\n",
        "\n",
        "def get_top_article_ids(n, df=df):\n",
        "    '''\n",
        "    INPUT:\n",
        "    n - (int) the number of top articles to return\n",
        "    df - (pandas dataframe) df as defined at the top of the notebook \n",
        "    \n",
        "    OUTPUT:\n",
        "    top_articles - (list) A list of the top 'n' article titles \n",
        "    \n",
        "    '''\n",
        "    ranked_df = df.groupby(by = ['article_id']).user_id.count().sort_values(ascending = False)\n",
        "    top_articles = ranked_df.nlargest(n).index.tolist()\n",
        "\n",
        "    return top_articles # Return the top article ids"
      ],
      "execution_count": 48,
      "outputs": []
    },
    {
      "cell_type": "code",
      "metadata": {
        "id": "6UF1jL49eUIo",
        "colab_type": "code",
        "colab": {
          "base_uri": "https://localhost:8080/",
          "height": 72
        },
        "outputId": "02e30ef2-3e3d-4d06-ecf9-8de1eb306a13"
      },
      "source": [
        "print(get_top_articles(10))\n",
        "print(get_top_article_ids(10))"
      ],
      "execution_count": 49,
      "outputs": [
        {
          "output_type": "stream",
          "text": [
            "['healthcare python streaming application demo', 'use deep learning for image classification', 'apache spark lab, part 1: basic concepts', 'predicting churn with the spss random tree algorithm', 'analyze energy consumption in buildings', 'visualize car data with brunel', 'use xgboost, scikit-learn & ibm watson machine learning apis', 'gosales transactions for logistic regression model', 'insights from new york car accident reports', 'finding optimal locations of new store using decision optimization']\n",
            "[1429.0, 1330.0, 1431.0, 1427.0, 1364.0, 1314.0, 1293.0, 1170.0, 1162.0, 1304.0]\n"
          ],
          "name": "stdout"
        }
      ]
    },
    {
      "cell_type": "code",
      "metadata": {
        "id": "51yLHSF7eUIs",
        "colab_type": "code",
        "colab": {
          "base_uri": "https://localhost:8080/",
          "height": 69
        },
        "outputId": "585edb65-f303-4f7f-daec-819ab2c509ac"
      },
      "source": [
        "# Test your function by returning the top 5, 10, and 20 articles\n",
        "top_5 = get_top_articles(5)\n",
        "top_10 = get_top_articles(10)\n",
        "top_20 = get_top_articles(20)\n",
        "\n",
        "# Test each of your three lists from above\n",
        "t.sol_2_test(get_top_articles)"
      ],
      "execution_count": 50,
      "outputs": [
        {
          "output_type": "stream",
          "text": [
            "Your top_5 looks like the solution list! Nice job.\n",
            "Your top_10 looks like the solution list! Nice job.\n",
            "Your top_20 looks like the solution list! Nice job.\n"
          ],
          "name": "stdout"
        }
      ]
    },
    {
      "cell_type": "markdown",
      "metadata": {
        "id": "XOHbVPVYeUIx",
        "colab_type": "text"
      },
      "source": [
        "### <a class=\"anchor\" id=\"User-User\">Part III: User-User Based Collaborative Filtering</a>\n",
        "\n",
        "\n",
        "`1.` Use the function below to reformat the **df** dataframe to be shaped with users as the rows and articles as the columns.  \n",
        "\n",
        "* Each **user** should only appear in each **row** once.\n",
        "\n",
        "\n",
        "* Each **article** should only show up in one **column**.  \n",
        "\n",
        "\n",
        "* **If a user has interacted with an article, then place a 1 where the user-row meets for that article-column**.  It does not matter how many times a user has interacted with the article, all entries where a user has interacted with an article should be a 1.  \n",
        "\n",
        "\n",
        "* **If a user has not interacted with an item, then place a zero where the user-row meets for that article-column**. \n",
        "\n",
        "Use the tests to make sure the basic structure of your matrix matches what is expected by the solution."
      ]
    },
    {
      "cell_type": "code",
      "metadata": {
        "id": "vK1itI7weUIx",
        "colab_type": "code",
        "colab": {}
      },
      "source": [
        "# create the user-article matrix with 1's and 0's\n",
        "\n",
        "def create_user_item_matrix(df):\n",
        "    '''\n",
        "    INPUT:\n",
        "    df - pandas dataframe with article_id, title, user_id columns\n",
        "    \n",
        "    OUTPUT:\n",
        "    user_item - user item matrix \n",
        "    \n",
        "    Description:\n",
        "    Return a matrix with user ids as rows and article ids on the columns with 1 values where a user interacted with \n",
        "    an article and a 0 otherwise\n",
        "    '''\n",
        "    # Fill in the function here\n",
        "    df_new=df.groupby(['article_id', 'user_id']).count().reset_index()\n",
        "    df_new=df_new.pivot_table(index='user_id',columns='article_id',values='title')\n",
        "    df_new = df_new.replace(np.nan, 0)\n",
        "    user_item=df_new.applymap(lambda x: 1 if x > 0 else x)\n",
        "    return user_item # return the user_item matrix \n",
        "\n",
        "user_item = create_user_item_matrix(df)"
      ],
      "execution_count": 25,
      "outputs": []
    },
    {
      "cell_type": "code",
      "metadata": {
        "id": "APsFkcQDeUI1",
        "colab_type": "code",
        "colab": {
          "base_uri": "https://localhost:8080/",
          "height": 34
        },
        "outputId": "50087979-7af3-4f59-cc1b-9a33bd21a4b3"
      },
      "source": [
        "## Tests: You should just need to run this cell.  Don't change the code.\n",
        "assert user_item.shape[0] == 5149, \"Oops!  The number of users in the user-article matrix doesn't look right.\"\n",
        "assert user_item.shape[1] == 714, \"Oops!  The number of articles in the user-article matrix doesn't look right.\"\n",
        "assert user_item.sum(axis=1)[1] == 36, \"Oops!  The number of articles seen by user 1 doesn't look right.\"\n",
        "print(\"You have passed our quick tests!  Please proceed!\")"
      ],
      "execution_count": 26,
      "outputs": [
        {
          "output_type": "stream",
          "text": [
            "You have passed our quick tests!  Please proceed!\n"
          ],
          "name": "stdout"
        }
      ]
    },
    {
      "cell_type": "markdown",
      "metadata": {
        "id": "8XnNqMDfeUI5",
        "colab_type": "text"
      },
      "source": [
        "`2.` Complete the function below which should take a user_id and provide an ordered list of the most similar users to that user (from most similar to least similar).  The returned result should not contain the provided user_id, as we know that each user is similar to him/herself. Because the results for each user here are binary, it (perhaps) makes sense to compute similarity as the dot product of two users. \n",
        "\n",
        "Use the tests to test your function."
      ]
    },
    {
      "cell_type": "code",
      "metadata": {
        "id": "KMOk6IdveUI5",
        "colab_type": "code",
        "colab": {}
      },
      "source": [
        "def find_similar_users(user_id, user_item=user_item):\n",
        "    '''\n",
        "    INPUT:\n",
        "    user_id - (int) a user_id\n",
        "    user_item - (pandas dataframe) matrix of users by articles: \n",
        "                1's when a user has interacted with an article, 0 otherwise\n",
        "    \n",
        "    OUTPUT:\n",
        "    similar_users - (list) an ordered list where the closest users (largest dot product users)\n",
        "                    are listed first\n",
        "    \n",
        "    Description:\n",
        "    Computes the similarity of every pair of users based on the dot product\n",
        "    Returns an ordered\n",
        "    \n",
        "    '''\n",
        "    # compute similarity of each user to the provided user\n",
        "    similarity = {}\n",
        "    for user in user_item.index:\n",
        "        similarity[user] = np.dot(user_item.loc[user_id, :], user_item.loc[user, :])\n",
        "\n",
        "    # sort by similarity\n",
        "    sorted_similarity = sorted(similarity.items(), key=lambda kv: kv[1], reverse=True)\n",
        "\n",
        "    # create list of just the ids\n",
        "    most_similar_users = [key for (key, value) in sorted_similarity]\n",
        "   \n",
        "    # remove the own user's id\n",
        "    most_similar_users.remove(user_id)\n",
        "       \n",
        "    return most_similar_users # return a list of the users in order from most to least similar\n",
        "        "
      ],
      "execution_count": 51,
      "outputs": []
    },
    {
      "cell_type": "code",
      "metadata": {
        "id": "W0WeBA76eUI_",
        "colab_type": "code",
        "colab": {
          "base_uri": "https://localhost:8080/",
          "height": 69
        },
        "outputId": "f6f893d6-f3cc-4e4a-b8ad-3af3de837351"
      },
      "source": [
        "# Do a spot check of your function\n",
        "print(\"The 10 most similar users to user 1 are: {}\".format(find_similar_users(1)[:10]))\n",
        "print(\"The 5 most similar users to user 3933 are: {}\".format(find_similar_users(3933)[:5]))\n",
        "print(\"The 3 most similar users to user 46 are: {}\".format(find_similar_users(46)[:3]))"
      ],
      "execution_count": 53,
      "outputs": [
        {
          "output_type": "stream",
          "text": [
            "The 10 most similar users to user 1 are: [3933, 23, 3782, 203, 4459, 131, 3870, 46, 4201, 49]\n",
            "The 5 most similar users to user 3933 are: [1, 23, 3782, 203, 4459]\n",
            "The 3 most similar users to user 46 are: [4201, 23, 3782]\n"
          ],
          "name": "stdout"
        }
      ]
    },
    {
      "cell_type": "markdown",
      "metadata": {
        "id": "Zjy6humqeUJC",
        "colab_type": "text"
      },
      "source": [
        "`3.` Now that you have a function that provides the most similar users to each user, you will want to use these users to find articles you can recommend.  Complete the functions below to return the articles you would recommend to each user. "
      ]
    },
    {
      "cell_type": "code",
      "metadata": {
        "id": "AaGMyNREeUJD",
        "colab_type": "code",
        "colab": {}
      },
      "source": [
        " def get_article_names(article_ids, df=df):\n",
        "    '''\n",
        "    INPUT:\n",
        "    article_ids - (list) a list of article ids\n",
        "    df - (pandas dataframe) df as defined at the top of the notebook\n",
        "    \n",
        "    OUTPUT:\n",
        "    article_names - (list) a list of article names associated with the list of article ids \n",
        "                    (this is identified by the title column)\n",
        "    '''\n",
        "    # Your code here\n",
        "    article_names = df[df.article_id.isin(article_ids)].title.unique().tolist()\n",
        "    \n",
        "    return article_names # Return the article names associated with list of article ids\n",
        "\n",
        "\n",
        "def get_user_articles(user_id, user_item=user_item):\n",
        "    '''\n",
        "    INPUT:\n",
        "    user_id - (int) a user id\n",
        "    user_item - (pandas dataframe) matrix of users by articles: \n",
        "                1's when a user has interacted with an article, 0 otherwise\n",
        "    \n",
        "    OUTPUT:\n",
        "    article_ids - (list) a list of the article ids seen by the user\n",
        "    article_names - (list) a list of article names associated with the list of article ids \n",
        "                    (this is identified by the doc_full_name column in df_content)\n",
        "    \n",
        "    Description:\n",
        "    Provides a list of the article_ids and article titles that have been seen by a user\n",
        "    '''\n",
        "    # Your code here\n",
        "    ids=user_item.loc[[user_id]]\n",
        "    article_ids=ids[ids==1].dropna(axis=1).columns.tolist()\n",
        "    article_ids=[str(i) for i in article_ids]\n",
        "    article_names = get_article_names(article_ids)\n",
        "    \n",
        "    return article_ids, article_names # return the ids and names\n",
        "\n",
        "\n",
        "def user_user_recs(user_id, m=10):\n",
        "    '''\n",
        "    INPUT:\n",
        "    user_id - (int) a user id\n",
        "    m - (int) the number of recommendations you want for the user\n",
        "    \n",
        "    OUTPUT:\n",
        "    recs - (list) a list of recommendations for the user\n",
        "    \n",
        "    Description:\n",
        "    Loops through the users based on closeness to the input user_id\n",
        "    For each user - finds articles the user hasn't seen before and provides them as recs\n",
        "    Does this until m recommendations are found\n",
        "    \n",
        "    Notes:\n",
        "    Users who are the same closeness are chosen arbitrarily as the 'next' user\n",
        "    \n",
        "    For the user where the number of recommended articles starts below m \n",
        "    and ends exceeding m, the last items are chosen arbitrarily\n",
        "    \n",
        "    '''\n",
        "    recs = []\n",
        "    most_similar_users = find_similar_users(user_id)\n",
        "    the_user_articles, the_article_names = get_user_articles(user_id)\n",
        "    \n",
        "    for user in most_similar_users:\n",
        "        article_ids, article_names = get_user_articles(user)\n",
        "        for id in article_ids:\n",
        "            if id not in the_user_articles:\n",
        "                recs.append(id)\n",
        "            if len(recs) >= m:\n",
        "                break\n",
        "        if len(recs) >= m:\n",
        "                break\n",
        "    \n",
        "    if len(recs) < m:\n",
        "        for id in str(df['article_id']):\n",
        "            if id not in the_user_articles:\n",
        "                recs.append(id)\n",
        "            if len(recs) >= m:\n",
        "                    break\n",
        "    \n",
        "    return recs # return your recommendations for this user_id"
      ],
      "execution_count": 54,
      "outputs": []
    },
    {
      "cell_type": "code",
      "metadata": {
        "id": "6LVPaMwleUJG",
        "colab_type": "code",
        "colab": {
          "base_uri": "https://localhost:8080/",
          "height": 190
        },
        "outputId": "c5b4fe16-9e25-4fb5-bfbe-ca7321047952"
      },
      "source": [
        "# Check Results\n",
        "get_article_names(user_user_recs(1, 10)) # Return 10 recommendations for user 1"
      ],
      "execution_count": 55,
      "outputs": [
        {
          "output_type": "execute_result",
          "data": {
            "text/plain": [
              "['got zip code data? prep it for analytics. – ibm watson data lab – medium',\n",
              " 'timeseries data analysis of iot events by using jupyter notebook',\n",
              " 'graph-based machine learning',\n",
              " 'using brunel in ipython/jupyter notebooks',\n",
              " 'experience iot with coursera',\n",
              " 'the 3 kinds of context: machine learning and the art of the frame',\n",
              " 'deep forest: towards an alternative to deep neural networks',\n",
              " 'this week in data science (april 18, 2017)',\n",
              " 'higher-order logistic regression for large datasets',\n",
              " 'using machine learning to predict parking difficulty']"
            ]
          },
          "metadata": {
            "tags": []
          },
          "execution_count": 55
        }
      ]
    },
    {
      "cell_type": "code",
      "metadata": {
        "id": "IT7uSwrneUJM",
        "colab_type": "code",
        "colab": {
          "base_uri": "https://localhost:8080/",
          "height": 34
        },
        "outputId": "41ab5df5-78ba-4039-b28a-798856005702"
      },
      "source": [
        "# Test your functions here - No need to change this code - just run this cell\n",
        "assert set(get_article_names(['1024.0', '1176.0', '1305.0', '1314.0', '1422.0', '1427.0'])) == set(['using deep learning to reconstruct high-resolution audio', 'build a python app on the streaming analytics service', 'gosales transactions for naive bayes model', 'healthcare python streaming application demo', 'use r dataframes & ibm watson natural language understanding', 'use xgboost, scikit-learn & ibm watson machine learning apis']), \"Oops! Your the get_article_names function doesn't work quite how we expect.\"\n",
        "assert set(get_article_names(['1320.0', '232.0', '844.0'])) == set(['housing (2015): united states demographic measures','self-service data preparation with ibm data refinery','use the cloudant-spark connector in python notebook']), \"Oops! Your the get_article_names function doesn't work quite how we expect.\"\n",
        "assert set(get_user_articles(20)[0]) == set(['1320.0', '232.0', '844.0'])\n",
        "assert set(get_user_articles(20)[1]) == set(['housing (2015): united states demographic measures', 'self-service data preparation with ibm data refinery','use the cloudant-spark connector in python notebook'])\n",
        "assert set(get_user_articles(2)[0]) == set(['1024.0', '1176.0', '1305.0', '1314.0', '1422.0', '1427.0'])\n",
        "assert set(get_user_articles(2)[1]) == set(['using deep learning to reconstruct high-resolution audio', 'build a python app on the streaming analytics service', 'gosales transactions for naive bayes model', 'healthcare python streaming application demo', 'use r dataframes & ibm watson natural language understanding', 'use xgboost, scikit-learn & ibm watson machine learning apis'])\n",
        "print(\"If this is all you see, you passed all of our tests!  Nice job!\")"
      ],
      "execution_count": 56,
      "outputs": [
        {
          "output_type": "stream",
          "text": [
            "If this is all you see, you passed all of our tests!  Nice job!\n"
          ],
          "name": "stdout"
        }
      ]
    },
    {
      "cell_type": "markdown",
      "metadata": {
        "id": "3D9BsWUXeUJS",
        "colab_type": "text"
      },
      "source": [
        "`4.` Now we are going to improve the consistency of the **user_user_recs** function from above.  \n",
        "\n",
        "* Instead of arbitrarily choosing when we obtain users who are all the same closeness to a given user - choose the users that have the most total article interactions before choosing those with fewer article interactions.\n",
        "\n",
        "\n",
        "* Instead of arbitrarily choosing articles from the user where the number of recommended articles starts below m and ends exceeding m, choose articles with the articles with the most total interactions before choosing those with fewer total interactions. This ranking should be  what would be obtained from the **top_articles** function you wrote earlier."
      ]
    },
    {
      "cell_type": "code",
      "metadata": {
        "id": "oHrVLaXJss90",
        "colab_type": "code",
        "colab": {}
      },
      "source": [
        "from scipy.spatial import distance"
      ],
      "execution_count": 57,
      "outputs": []
    },
    {
      "cell_type": "code",
      "metadata": {
        "id": "F5Sn91DieUJS",
        "colab_type": "code",
        "colab": {}
      },
      "source": [
        "def get_top_sorted_users(user_id, df=df, user_item=user_item):\n",
        "    '''\n",
        "    INPUT:\n",
        "    user_id - (int)\n",
        "    df - (pandas dataframe) df as defined at the top of the notebook \n",
        "    user_item - (pandas dataframe) matrix of users by articles: \n",
        "            1's when a user has interacted with an article, 0 otherwise\n",
        "    \n",
        "            \n",
        "    OUTPUT:\n",
        "    neighbors_df - (pandas dataframe) a dataframe with:\n",
        "                    neighbor_id - is a neighbor user_id\n",
        "                    similarity - measure of the similarity of each user to the provided user_id\n",
        "                    num_interactions - the number of articles viewed by the user - if a u\n",
        "                    \n",
        "    Other Details - sort the neighbors_df by the similarity and then by number of interactions where \n",
        "                    highest of each is higher in the dataframe\n",
        "     \n",
        "    '''\n",
        "    # Your code here\n",
        "    neighbors_df = pd.DataFrame(columns=['neighbor_id', 'similarity', 'num_interactions'])\n",
        "    for user in user_item.index:\n",
        "        if user == user_id:\n",
        "            continue\n",
        "        neighbors_df.loc[user] = [user, np.dot(user_item.loc[user_id, :], user_item.loc[user, :]),\n",
        "                                  df[df['user_id']==user]['article_id'].count()]\n",
        "    \n",
        "    neighbors_df.sort_values(by=['similarity', 'num_interactions'], ascending=False, inplace=True)\n",
        "    \n",
        "    return neighbors_df # Return the dataframe specified in the doc_string\n",
        "\n",
        "\n",
        "def user_user_recs_part2(user_id, m=10):\n",
        "    '''\n",
        "    INPUT:\n",
        "    user_id - (int) a user id\n",
        "    m - (int) the number of recommendations you want for the user\n",
        "    \n",
        "    OUTPUT:\n",
        "    recs - (list) a list of recommendations for the user by article id\n",
        "    rec_names - (list) a list of recommendations for the user by article title\n",
        "    \n",
        "    Description:\n",
        "    Loops through the users based on closeness to the input user_id\n",
        "    For each user - finds articles the user hasn't seen before and provides them as recs\n",
        "    Does this until m recommendations are found\n",
        "    \n",
        "    Notes:\n",
        "    * Choose the users that have the most total article interactions \n",
        "    before choosing those with fewer article interactions.\n",
        "\n",
        "    * Choose articles with the articles with the most total interactions \n",
        "    before choosing those with fewer total interactions. \n",
        "   \n",
        "    '''\n",
        "    recs = []\n",
        "    \n",
        "    neighbors_df = get_top_sorted_users(user_id)\n",
        "\n",
        "    the_user_articles, the_article_names = get_user_articles(user_id)\n",
        "    for user in neighbors_df['neighbor_id']:\n",
        "        article_ids, article_names = get_user_articles(user)\n",
        "        for id in article_ids:\n",
        "            if id not in the_user_articles:\n",
        "                recs.append(id)\n",
        "            if len(recs) >= m:\n",
        "                break\n",
        "        if len(recs) >= m:\n",
        "                break\n",
        "\n",
        "    if len(recs) < m:\n",
        "        for id in [str(id) for id in get_top_article_ids(100)]:\n",
        "            if id not in the_user_articles:\n",
        "                recs.append(id)\n",
        "            if len(recs) >= m:\n",
        "                    break\n",
        "    \n",
        "    rec_names = get_article_names(recs)\n",
        "    \n",
        "    return recs, rec_names"
      ],
      "execution_count": 65,
      "outputs": []
    },
    {
      "cell_type": "code",
      "metadata": {
        "id": "g7Hy2xC6eUJV",
        "colab_type": "code",
        "colab": {
          "base_uri": "https://localhost:8080/",
          "height": 124
        },
        "outputId": "94f736d9-7c7a-48f7-f5a0-e8946ff2d177"
      },
      "source": [
        "# Quick spot check - don't change this code - just use it to test your functions\n",
        "rec_ids, rec_names = user_user_recs_part2(20, 10)\n",
        "print(\"The top 10 recommendations for user 20 are the following article ids:\")\n",
        "print(rec_ids)\n",
        "print()\n",
        "print(\"The top 10 recommendations for user 20 are the following article names:\")\n",
        "print(rec_names)"
      ],
      "execution_count": 66,
      "outputs": [
        {
          "output_type": "stream",
          "text": [
            "The top 10 recommendations for user 20 are the following article ids:\n",
            "['12.0', '109.0', '125.0', '142.0', '164.0', '205.0', '302.0', '336.0', '362.0', '465.0']\n",
            "\n",
            "The top 10 recommendations for user 20 are the following article names:\n",
            "['timeseries data analysis of iot events by using jupyter notebook', 'dsx: hybrid mode', 'accelerate your workflow with dsx', 'learn tensorflow and deep learning together and now!', \"a beginner's guide to variational methods\", 'tensorflow quick tips', 'challenges in deep learning', 'neural networks for beginners: popular types and applications', 'statistics for hackers', 'introduction to neural networks, advantages and applications']\n"
          ],
          "name": "stdout"
        }
      ]
    },
    {
      "cell_type": "markdown",
      "metadata": {
        "id": "JdcutDiGeUJb",
        "colab_type": "text"
      },
      "source": [
        "`5.` Use your functions from above to correctly fill in the solutions to the dictionary below.  Then test your dictionary against the solution.  Provide the code you need to answer each following the comments below."
      ]
    },
    {
      "cell_type": "code",
      "metadata": {
        "id": "izMOR4eyeUJb",
        "colab_type": "code",
        "colab": {}
      },
      "source": [
        "### Tests with a dictionary of results\n",
        "\n",
        "user1_most_sim = find_similar_users(1)[0]# Find the user that is most similar to user 1 \n",
        "user131_10th_sim = find_similar_users(131)[9]# Find the 10th most similar user to user 131"
      ],
      "execution_count": 68,
      "outputs": []
    },
    {
      "cell_type": "code",
      "metadata": {
        "id": "K3ldMdVQeUJe",
        "colab_type": "code",
        "colab": {
          "base_uri": "https://localhost:8080/",
          "height": 34
        },
        "outputId": "499d09a5-9f2f-47c0-91b9-210c2cb3f489"
      },
      "source": [
        "## Dictionary Test Here\n",
        "sol_5_dict = {\n",
        "    'The user that is most similar to user 1.': user1_most_sim, \n",
        "    'The user that is the 10th most similar to user 131': user131_10th_sim,\n",
        "}\n",
        "\n",
        "t.sol_5_test(sol_5_dict)"
      ],
      "execution_count": 69,
      "outputs": [
        {
          "output_type": "stream",
          "text": [
            "This all looks good!  Nice job!\n"
          ],
          "name": "stdout"
        }
      ]
    },
    {
      "cell_type": "markdown",
      "metadata": {
        "id": "yqnboQEieUJj",
        "colab_type": "text"
      },
      "source": [
        "`6.` If we were given a new user, which of the above functions would you be able to use to make recommendations?  Explain.  Can you think of a better way we might make recommendations?  Use the cell below to explain a better method for new users."
      ]
    },
    {
      "cell_type": "markdown",
      "metadata": {
        "id": "ZVjSDEf0eUJk",
        "colab_type": "text"
      },
      "source": [
        "If I were given a new user, I would show him a few topics for him to select. Then, I would filter for the top articles in those topics the user was interested in.\n"
      ]
    },
    {
      "cell_type": "markdown",
      "metadata": {
        "id": "8n8Cs3SdeUJl",
        "colab_type": "text"
      },
      "source": [
        "`7.` Using your existing functions, provide the top 10 recommended articles you would provide for the a new user below.  You can test your function against our thoughts to make sure we are all on the same page with how we might make a recommendation."
      ]
    },
    {
      "cell_type": "code",
      "metadata": {
        "id": "5C683JUCeUJm",
        "colab_type": "code",
        "colab": {}
      },
      "source": [
        "new_user = '0.0'\n",
        "\n",
        "# What would your recommendations be for this new user '0.0'?  As a new user, they have no observed articles.\n",
        "# Provide a list of the top 10 article ids you would give to \n",
        "new_user_recs = [str(id) for id in get_top_article_ids(10)]"
      ],
      "execution_count": 70,
      "outputs": []
    },
    {
      "cell_type": "code",
      "metadata": {
        "id": "vFvHTT4reUJo",
        "colab_type": "code",
        "colab": {
          "base_uri": "https://localhost:8080/",
          "height": 34
        },
        "outputId": "9cf82864-6937-41cd-cdf9-3a30c115b9a4"
      },
      "source": [
        "assert set(new_user_recs) == set(['1314.0','1429.0','1293.0','1427.0','1162.0','1364.0','1304.0','1170.0','1431.0','1330.0']), \"Oops!  It makes sense that in this case we would want to recommend the most popular articles, because we don't know anything about these users.\"\n",
        "\n",
        "print(\"That's right!  Nice job!\")"
      ],
      "execution_count": 71,
      "outputs": [
        {
          "output_type": "stream",
          "text": [
            "That's right!  Nice job!\n"
          ],
          "name": "stdout"
        }
      ]
    },
    {
      "cell_type": "markdown",
      "metadata": {
        "id": "baBDpPSVeUJr",
        "colab_type": "text"
      },
      "source": [
        "### <a class=\"anchor\" id=\"Content-Recs\">Part IV: Content Based Recommendations (EXTRA - NOT REQUIRED)</a>\n",
        "\n",
        "Another method we might use to make recommendations is to perform a ranking of the highest ranked articles associated with some term.  You might consider content to be the **doc_body**, **doc_description**, or **doc_full_name**.  There isn't one way to create a content based recommendation, especially considering that each of these columns hold content related information.  \n",
        "\n",
        "`1.` Use the function body below to create a content based recommender.  Since there isn't one right answer for this recommendation tactic, no test functions are provided.  Feel free to change the function inputs if you decide you want to try a method that requires more input values.  The input values are currently set with one idea in mind that you may use to make content based recommendations.  One additional idea is that you might want to choose the most popular recommendations that meet your 'content criteria', but again, there is a lot of flexibility in how you might make these recommendations.\n",
        "\n",
        "### This part is NOT REQUIRED to pass this project.  However, you may choose to take this on as an extra way to show off your skills."
      ]
    },
    {
      "cell_type": "code",
      "metadata": {
        "id": "uK7EI_qZeUJs",
        "colab_type": "code",
        "colab": {}
      },
      "source": [
        "def make_content_recs():\n",
        "    '''\n",
        "    INPUT:\n",
        "    \n",
        "    OUTPUT:\n",
        "    \n",
        "    '''"
      ],
      "execution_count": null,
      "outputs": []
    },
    {
      "cell_type": "markdown",
      "metadata": {
        "id": "7mVyzs_GeUJv",
        "colab_type": "text"
      },
      "source": [
        "`2.` Now that you have put together your content-based recommendation system, use the cell below to write a summary explaining how your content based recommender works.  Do you see any possible improvements that could be made to your function?  Is there anything novel about your content based recommender?\n",
        "\n",
        "### This part is NOT REQUIRED to pass this project.  However, you may choose to take this on as an extra way to show off your skills."
      ]
    },
    {
      "cell_type": "markdown",
      "metadata": {
        "id": "iJQ49cefeUJv",
        "colab_type": "text"
      },
      "source": [
        "**Write an explanation of your content based recommendation system here.**"
      ]
    },
    {
      "cell_type": "markdown",
      "metadata": {
        "id": "yo1KTneceUJw",
        "colab_type": "text"
      },
      "source": [
        "`3.` Use your content-recommendation system to make recommendations for the below scenarios based on the comments.  Again no tests are provided here, because there isn't one right answer that could be used to find these content based recommendations.\n",
        "\n",
        "### This part is NOT REQUIRED to pass this project.  However, you may choose to take this on as an extra way to show off your skills."
      ]
    },
    {
      "cell_type": "code",
      "metadata": {
        "id": "xWJaylvPeUJw",
        "colab_type": "code",
        "colab": {}
      },
      "source": [
        "# make recommendations for a brand new user\n",
        "\n",
        "\n",
        "# make a recommendations for a user who only has interacted with article id '1427.0'\n",
        "\n"
      ],
      "execution_count": null,
      "outputs": []
    },
    {
      "cell_type": "markdown",
      "metadata": {
        "id": "3RXUeFUQeUJ0",
        "colab_type": "text"
      },
      "source": [
        "### <a class=\"anchor\" id=\"Matrix-Fact\">Part V: Matrix Factorization</a>\n",
        "\n",
        "In this part of the notebook, you will build use matrix factorization to make article recommendations to the users on the IBM Watson Studio platform.\n",
        "\n",
        "`1.` You should have already created a **user_item** matrix above in **question 1** of **Part III** above.  This first question here will just require that you run the cells to get things set up for the rest of **Part V** of the notebook. "
      ]
    },
    {
      "cell_type": "code",
      "metadata": {
        "id": "82wdXP7ieUJ1",
        "colab_type": "code",
        "colab": {}
      },
      "source": [
        "# Load the matrix here\n",
        "user_item_matrix = pd.read_pickle('user_item_matrix.p')"
      ],
      "execution_count": null,
      "outputs": []
    },
    {
      "cell_type": "code",
      "metadata": {
        "id": "cfu83uVeeUJ5",
        "colab_type": "code",
        "colab": {}
      },
      "source": [
        "# quick look at the matrix\n",
        "user_item_matrix.head()"
      ],
      "execution_count": null,
      "outputs": []
    },
    {
      "cell_type": "markdown",
      "metadata": {
        "id": "8YiMPZmGeUJ8",
        "colab_type": "text"
      },
      "source": [
        "`2.` In this situation, you can use Singular Value Decomposition from [numpy](https://docs.scipy.org/doc/numpy-1.14.0/reference/generated/numpy.linalg.svd.html) on the user-item matrix.  Use the cell to perform SVD, and explain why this is different than in the lesson."
      ]
    },
    {
      "cell_type": "code",
      "metadata": {
        "id": "9wJkqWMyeUJ9",
        "colab_type": "code",
        "colab": {}
      },
      "source": [
        "# Perform SVD on the User-Item Matrix Here\n",
        "\n",
        "u, s, vt = np.linalg.svd(user_item_matrix)"
      ],
      "execution_count": null,
      "outputs": []
    },
    {
      "cell_type": "markdown",
      "metadata": {
        "id": "G9L-ZfWBeUKA",
        "colab_type": "text"
      },
      "source": [
        "We can use Singular Value Decomposition with numpy becase in this case we don't have NaN values. In the lesson we had to use Funk SVD to find a way to deal with these type of values."
      ]
    },
    {
      "cell_type": "markdown",
      "metadata": {
        "id": "9v3pL5iaeUKB",
        "colab_type": "text"
      },
      "source": [
        "`3.` Now for the tricky part, how do we choose the number of latent features to use?  Running the below cell, you can see that as the number of latent features increases, we obtain a lower error rate on making predictions for the 1 and 0 values in the user-item matrix.  Run the cell below to get an idea of how the accuracy improves as we increase the number of latent features."
      ]
    },
    {
      "cell_type": "code",
      "metadata": {
        "id": "GJpDcSqReUKB",
        "colab_type": "code",
        "colab": {}
      },
      "source": [
        "num_latent_feats = np.arange(10,700+10,20)\n",
        "sum_errs = []\n",
        "\n",
        "for k in num_latent_feats:\n",
        "    # restructure with k latent features\n",
        "    s_new, u_new, vt_new = np.diag(s[:k]), u[:, :k], vt[:k, :]\n",
        "    \n",
        "    # take dot product\n",
        "    user_item_est = np.around(np.dot(np.dot(u_new, s_new), vt_new))\n",
        "    \n",
        "    # compute error for each prediction to actual value\n",
        "    diffs = np.subtract(user_item_matrix, user_item_est)\n",
        "    \n",
        "    # total errors and keep track of them\n",
        "    err = np.sum(np.sum(np.abs(diffs)))\n",
        "    sum_errs.append(err)\n",
        "    \n",
        "    \n",
        "plt.plot(num_latent_feats, 1 - np.array(sum_errs)/df.shape[0]);\n",
        "plt.xlabel('Number of Latent Features');\n",
        "plt.ylabel('Accuracy');\n",
        "plt.title('Accuracy vs. Number of Latent Features');"
      ],
      "execution_count": null,
      "outputs": []
    },
    {
      "cell_type": "markdown",
      "metadata": {
        "id": "Rb8QiBfxeUKF",
        "colab_type": "text"
      },
      "source": [
        "`4.` From the above, we can't really be sure how many features to use, because simply having a better way to predict the 1's and 0's of the matrix doesn't exactly give us an indication of if we are able to make good recommendations.  Instead, we might split our dataset into a training and test set of data, as shown in the cell below.  \n",
        "\n",
        "Use the code from question 3 to understand the impact on accuracy of the training and test sets of data with different numbers of latent features. Using the split below: \n",
        "\n",
        "* How many users can we make predictions for in the test set?  \n",
        "* How many users are we not able to make predictions for because of the cold start problem?\n",
        "* How many articles can we make predictions for in the test set?  \n",
        "* How many articles are we not able to make predictions for because of the cold start problem?"
      ]
    },
    {
      "cell_type": "code",
      "metadata": {
        "id": "vhT8QctxeUKF",
        "colab_type": "code",
        "colab": {}
      },
      "source": [
        "df_train = df.head(40000)\n",
        "df_test = df.tail(5993)\n",
        "\n",
        "def create_test_and_train_user_item(df_train, df_test):\n",
        "    '''\n",
        "    INPUT:\n",
        "    df_train - training dataframe\n",
        "    df_test - test dataframe\n",
        "    \n",
        "    OUTPUT:\n",
        "    user_item_train - a user-item matrix of the training dataframe \n",
        "                      (unique users for each row and unique articles for each column)\n",
        "    user_item_test - a user-item matrix of the testing dataframe \n",
        "                    (unique users for each row and unique articles for each column)\n",
        "    test_idx - all of the test user ids\n",
        "    test_arts - all of the test article ids\n",
        "    \n",
        "    '''\n",
        "    # Your code here\n",
        "    user_item_train = create_user_item_matrix(df_train)\n",
        "    user_item_test = create_user_item_matrix(df_test)\n",
        "\n",
        "    #Computing rows\n",
        "    train_idx = set(user_item_train.index)\n",
        "    test_idx = set(user_item_test.index)\n",
        "    match_idx = train_idx.intersection(test_idx)\n",
        "\n",
        "    #Computing columns\n",
        "    train_arts = set(user_item_train.columns.values)\n",
        "    test_arts = set(user_item_test.columns.values)\n",
        "    match_cols = train_arts.intersection(test_arts)\n",
        "\n",
        "    user_item_test = user_item_test.loc[match_idx, match_cols]\n",
        "\n",
        "    return user_item_train, user_item_test, test_idx, test_arts\n",
        "\n",
        "user_item_train, user_item_test, test_idx, test_arts = create_test_and_train_user_item(df_train, df_test)"
      ],
      "execution_count": 86,
      "outputs": []
    },
    {
      "cell_type": "code",
      "metadata": {
        "id": "Sor5w-swJNcF",
        "colab_type": "code",
        "colab": {
          "base_uri": "https://localhost:8080/",
          "height": 34
        },
        "outputId": "eb2e71c7-4f20-4ff9-9730-5bc7543c88e6"
      },
      "source": [
        "user_item_train.shape, user_item_test.shape"
      ],
      "execution_count": 87,
      "outputs": [
        {
          "output_type": "execute_result",
          "data": {
            "text/plain": [
              "((4487, 714), (20, 574))"
            ]
          },
          "metadata": {
            "tags": []
          },
          "execution_count": 87
        }
      ]
    },
    {
      "cell_type": "code",
      "metadata": {
        "id": "-DMeaYccwzXT",
        "colab_type": "code",
        "colab": {
          "base_uri": "https://localhost:8080/",
          "height": 34
        },
        "outputId": "af0c2ab0-75bb-4a7e-b0e4-23e898e63559"
      },
      "source": [
        "len(list(set(test_arts) - set(user_item_train.columns.tolist())))"
      ],
      "execution_count": 88,
      "outputs": [
        {
          "output_type": "execute_result",
          "data": {
            "text/plain": [
              "0"
            ]
          },
          "metadata": {
            "tags": []
          },
          "execution_count": 88
        }
      ]
    },
    {
      "cell_type": "code",
      "metadata": {
        "id": "e5HH6kcteUKK",
        "colab_type": "code",
        "colab": {
          "base_uri": "https://localhost:8080/",
          "height": 54
        },
        "outputId": "c1b5908f-f36d-4fd3-b116-0ef11f627974"
      },
      "source": [
        "# Replace the values in the dictionary below\n",
        "a = 662 \n",
        "b = 574 \n",
        "c = 20 \n",
        "d = 0 \n",
        "\n",
        "\n",
        "sol_4_dict = {\n",
        "    'How many users can we make predictions for in the test set?': c, \n",
        "    'How many users in the test set are we not able to make predictions for because of the cold start problem?': a, \n",
        "    'How many movies can we make predictions for in the test set?': b,\n",
        "    'How many movies in the test set are we not able to make predictions for because of the cold start problem?': d\n",
        "}\n",
        "\n",
        "t.sol_4_test(sol_4_dict)"
      ],
      "execution_count": 89,
      "outputs": [
        {
          "output_type": "stream",
          "text": [
            "Awesome job!  That's right!  All of the test movies are in the training data, but there are only 20 test users that were also in the training set.  All of the other users that are in the test set we have no data on.  Therefore, we cannot make predictions for these users using SVD.\n"
          ],
          "name": "stdout"
        }
      ]
    },
    {
      "cell_type": "markdown",
      "metadata": {
        "id": "WfhGE-8ReUKS",
        "colab_type": "text"
      },
      "source": [
        "`5.` Now use the **user_item_train** dataset from above to find U, S, and V transpose using SVD. Then find the subset of rows in the **user_item_test** dataset that you can predict using this matrix decomposition with different numbers of latent features to see how many features makes sense to keep based on the accuracy on the test data. This will require combining what was done in questions `2` - `4`.\n",
        "\n",
        "Use the cells below to explore how well SVD works towards making predictions for recommendations on the test data.  "
      ]
    },
    {
      "cell_type": "code",
      "metadata": {
        "id": "1DVhByKx4PJc",
        "colab_type": "code",
        "colab": {}
      },
      "source": [
        "# List of users for which we can make predictions\n",
        "common_idx = user_item_train.index.isin(test_idx)\n",
        "common_arts = user_item_train.columns.isin(test_arts)"
      ],
      "execution_count": 91,
      "outputs": []
    },
    {
      "cell_type": "code",
      "metadata": {
        "id": "WpVB-M1kEMht",
        "colab_type": "code",
        "colab": {}
      },
      "source": [
        "# fit SVD on the user_item_train matrix\n",
        "u_train, s_train, vt_train = np.linalg.svd(user_item_train)# fit svd similar to above then use the cells below\n",
        "\n",
        "u_test = u_train[common_idx,:]\n",
        "vt_test = vt_train[:, common_arts]"
      ],
      "execution_count": 92,
      "outputs": []
    },
    {
      "cell_type": "code",
      "metadata": {
        "id": "RRprWYunbmhj",
        "colab_type": "code",
        "colab": {
          "base_uri": "https://localhost:8080/",
          "height": 34
        },
        "outputId": "df30088a-24cc-401e-a9c2-25016a8f0ec3"
      },
      "source": [
        "u_train.shape, s_train.shape, vt_train.shape"
      ],
      "execution_count": 93,
      "outputs": [
        {
          "output_type": "execute_result",
          "data": {
            "text/plain": [
              "((4487, 4487), (714,), (714, 714))"
            ]
          },
          "metadata": {
            "tags": []
          },
          "execution_count": 93
        }
      ]
    },
    {
      "cell_type": "code",
      "metadata": {
        "id": "1pE7e2wWJBt-",
        "colab_type": "code",
        "colab": {
          "base_uri": "https://localhost:8080/",
          "height": 312
        },
        "outputId": "e954e25c-6303-47d2-c1cd-978d5276e502"
      },
      "source": [
        "num_latent_feats = np.arange(10,700+10,20)\n",
        "train_idx = user_item_train.index\n",
        "row_idxs_2 = user_item_test.index.isin(train_idx)\n",
        "sub_user_item_test = user_item_test.loc[row_idxs_2]\n",
        "sum_errs_test = []\n",
        "sum_errs_train = []\n",
        "all_errs = []\n",
        "\n",
        "for k in num_latent_feats:\n",
        "    # restructure with k latent features\n",
        "    u_test_lat, vt_test_lat = u_test[:, :k], vt_test[:k, :]\n",
        "    s_train_lat, u_train_lat, vt_train_lat = np.diag(s_train[:k]), u_train[:, :k], vt_train[:k, :]\n",
        "    \n",
        "    # take dot product\n",
        "    user_item_test_pred = np.around(np.dot(np.dot(u_test_lat, s_train_lat), vt_test_lat))\n",
        "    user_item_train_pred = np.around(np.dot(np.dot(u_train_lat, s_train_lat), vt_train_lat))\n",
        "    all_errs.append(1 - ((np.sum(user_item_test_pred)+np.sum(user_item_test)))/(user_item_test.shape[0]*user_item_test.shape[1]))\n",
        "        \n",
        "    # compute error for each prediction to actual value\n",
        "    diffs_test = np.subtract(sub_user_item_test, user_item_test_pred)\n",
        "    diffs_train = np.subtract(user_item_train, user_item_train_pred)\n",
        "    \n",
        "    # total errors and keep track of them\n",
        "    err_test = np.sum(np.sum(np.abs(diffs_test)))\n",
        "    err_train = np.sum(np.sum(np.abs(diffs_train)))\n",
        "    \n",
        "    # append to error dataframe\n",
        "    sum_errs_test.append(err_test)\n",
        "    sum_errs_train.append(err_train)\n",
        "    \n",
        "plt.plot(num_latent_feats, 1 - np.array(sum_errs_train)/(user_item_train.shape[0]*user_item_test.shape[1]), label = 'Train');\n",
        "plt.plot(num_latent_feats, 1 - np.array(sum_errs_test)/(user_item_test.shape[0]*user_item_test.shape[1]), label = 'Test');\n",
        "plt.xlabel('Number of Latent Features');\n",
        "plt.ylabel('Accuracy');\n",
        "plt.title('Accuracy vs. Number of Latent Features');\n",
        "plt.legend()"
      ],
      "execution_count": 94,
      "outputs": [
        {
          "output_type": "execute_result",
          "data": {
            "text/plain": [
              "<matplotlib.legend.Legend at 0x7f1ea69fec88>"
            ]
          },
          "metadata": {
            "tags": []
          },
          "execution_count": 94
        },
        {
          "output_type": "display_data",
          "data": {
            "image/png": "[encoded data removed]",
            "text/plain": [
              "<Figure size 432x288 with 1 Axes>"
            ]
          },
          "metadata": {
            "tags": [],
            "needs_background": "light"
          }
        }
      ]
    },
    {
      "cell_type": "markdown",
      "metadata": {
        "collapsed": true,
        "id": "JUn1JwT7eUKe",
        "colab_type": "text"
      },
      "source": [
        "`6.` Use the cell below to comment on the results you found in the previous question. Given the circumstances of your results, discuss what you might do to determine if the recommendations you make with any of the above recommendation systems are an improvement to how users currently find articles? "
      ]
    },
    {
      "cell_type": "markdown",
      "metadata": {
        "id": "lvbgd065eUKf",
        "colab_type": "text"
      },
      "source": [
        "If we increase the number of latent features we create overfitting. We also have only 20 users to compare, which makes the recommendations not as statistically significant. \n",
        "\n",
        "I would recommend using other methods such as collaborative filtering or content-based filtering for this recommendation engine."
      ]
    },
    {
      "cell_type": "markdown",
      "metadata": {
        "collapsed": true,
        "id": "9J4jbbaoeUKg",
        "colab_type": "text"
      },
      "source": [
        "<a id='conclusions'></a>\n",
        "### Extras\n",
        "Using your workbook, you could now save your recommendations for each user, develop a class to make new predictions and update your results, and make a flask app to deploy your results.  These tasks are beyond what is required for this project.  However, from what you learned in the lessons, you certainly capable of taking these tasks on to improve upon your work here!\n",
        "\n",
        "\n",
        "## Conclusion\n",
        "\n",
        "> Congratulations!  You have reached the end of the Recommendations with IBM project! \n",
        "\n",
        "> **Tip**: Once you are satisfied with your work here, check over your report to make sure that it is satisfies all the areas of the [rubric](https://review.udacity.com/#!/rubrics/2322/view). You should also probably remove all of the \"Tips\" like this one so that the presentation is as polished as possible.\n",
        "\n",
        "\n",
        "## Directions to Submit\n",
        "\n",
        "> Before you submit your project, you need to create a .html or .pdf version of this notebook in the workspace here. To do that, run the code cell below. If it worked correctly, you should get a return code of 0, and you should see the generated .html file in the workspace directory (click on the orange Jupyter icon in the upper left).\n",
        "\n",
        "> Alternatively, you can download this report as .html via the **File** > **Download as** submenu, and then manually upload it into the workspace directory by clicking on the orange Jupyter icon in the upper left, then using the Upload button.\n",
        "\n",
        "> Once you've done this, you can submit your project by clicking on the \"Submit Project\" button in the lower right here. This will create and submit a zip file with this .ipynb doc and the .html or .pdf version you created. Congratulations! "
      ]
    },
    {
      "cell_type": "code",
      "metadata": {
        "id": "zHuII4qyeUKh",
        "colab_type": "code",
        "colab": {}
      },
      "source": [
        "from subprocess import call\n",
        "call(['python', '-m', 'nbconvert', 'Recommendations_with_IBM.ipynb'])"
      ],
      "execution_count": null,
      "outputs": []
    },
    {
      "cell_type": "code",
      "metadata": {
        "id": "uIz0hoMbc-9L",
        "colab_type": "code",
        "colab": {}
      },
      "source": [
        ""
      ],
      "execution_count": null,
      "outputs": []
    }
  ]
}